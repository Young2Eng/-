{
 "cells": [
  {
   "cell_type": "markdown",
   "id": "aa83d63b-c384-4553-9f9b-36610ad7fe93",
   "metadata": {},
   "source": [
    "<H1> 1.Java & IntelliJ 설정 </H1>"
   ]
  },
  {
   "cell_type": "code",
   "execution_count": 54,
   "id": "445f9749-982c-4e6c-89ef-8f1591c94a23",
   "metadata": {},
   "outputs": [],
   "source": [
    "public class _01_HelloJava {  // 파일 이름\n",
    "    \n",
    "    public static void main(String[] args) {\n",
    "\n",
    "    // 실제 프로그램이 실행되는 영역 (메인메소드)\n",
    "    // psvm 입력 후 + [Enter]\n",
    "    }\n",
    "}"
   ]
  },
  {
   "cell_type": "markdown",
   "id": "8df39e06-9deb-49f6-91f9-4e0a1d81da20",
   "metadata": {},
   "source": [
    "**※주피터 노트북으로 코드를 실행시킬 시 위에 코드는 생략 가능**"
   ]
  },
  {
   "cell_type": "markdown",
   "id": "e8cdeb31-8921-4dbc-80b8-c70433d3d515",
   "metadata": {},
   "source": [
    "<H3>[1] 주석 : 내용은 작성하지만 실행은 되지 않는다.</H3>\n",
    "\n",
    "(1) 한줄 주석 : [Ctrl] + [/]\n",
    "\n",
    "//\n",
    "\n",
    "(2) 범위 주석 : [Ctrl] + [Shift] + [/]\n",
    "\n",
    "/*\n",
    "\n",
    "*/\n",
    "\n",
    "(3) 문서정보 주석   \n",
    "\n",
    "/**\n",
    "\n",
    "*/"
   ]
  },
  {
   "cell_type": "markdown",
   "id": "112ed300-806a-4c1a-9506-aebb3fda5ba0",
   "metadata": {},
   "source": [
    "<H3>[2] 출력 : sout + [Enter]</H3>"
   ]
  },
  {
   "cell_type": "code",
   "execution_count": 59,
   "id": "429ae007-b881-4a6b-a58d-2dff26a946a9",
   "metadata": {},
   "outputs": [
    {
     "name": "stdout",
     "output_type": "stream",
     "text": [
      "안녕하세요1\n",
      "안녕하세요2안녕하세요3\n",
      "print()안에는 반드시 내용을 작성해야 한다.ln은 line의 약자\n"
     ]
    }
   ],
   "source": [
    "System.out.println(\"안녕하세요1\");\n",
    "System.out.print(\"안녕하세요2\");\n",
    "System.out.print(\"안녕하세요3\");\n",
    "\n",
    "System.out.println();\n",
    "System.out.print(\"print()안에는 반드시 내용을 작성해야 한다.\");\n",
    "System.out.println(\"ln은 line의 약자\");"
   ]
  },
  {
   "cell_type": "markdown",
   "id": "82f3fa05-bb14-4c92-adfa-934c3000eae9",
   "metadata": {},
   "source": [
    "<dive>\n",
    "    <h4>\n",
    "        \n",
    "    [3] 실행 : [Shift] + [F10]\n",
    "    \n",
    "    [4] 정렬** : [Ctrl] + [Alt] + [L]\n",
    "    \n",
    "    [5] 저장** : [Ctrl] + [S]\n",
    "    \n",
    "    [6] 한줄 복사 : [Ctrl] + [D]\n",
    "    \n",
    "    [7] 한줄 이동 : [Alt] + [Shift] + [화살표]\n",
    "    \n",
    "    [8] 한줄 제거 : [Ctrl] + [Y]\n",
    "    \n",
    "    [9] 글자 크기 변경 : 설정 변경 후 [Ctrl] + [마우스휠]\n",
    "    \n",
    "</h4>\n",
    "    \n",
    "</dive>"
   ]
  },
  {
   "cell_type": "markdown",
   "id": "7cd79cab-143e-4703-aaa5-81ce4217db43",
   "metadata": {},
   "source": [
    "<H1> 2.변수(variable) </H1>"
   ]
  },
  {
   "cell_type": "markdown",
   "id": "929ce108-86a8-4cbc-8608-a23014179ac6",
   "metadata": {},
   "source": [
    "변수 : 프로그램 실행에 필요한 데이터를 저장하기 위해 메모리 [공간을 할당] 하고 [이름을 부여(선언)]한 것!\n",
    "\n",
    "**;(세미콜론) => 코드(명령문)의 끝을 명확히 구분하기 위해 작성**"
   ]
  },
  {
   "cell_type": "code",
   "execution_count": 64,
   "id": "553bda7e-82d0-4afa-bf72-faa0a4a09bc1",
   "metadata": {},
   "outputs": [
    {
     "name": "stdout",
     "output_type": "stream",
     "text": [
      "25\n",
      "30\n"
     ]
    }
   ],
   "source": [
    "int age = 25;\n",
    "    // int : [데이터 타입]\n",
    "    // age : 변수 이름\n",
    "    // 25 : 변수 값\n",
    "\n",
    "int age1;   // 선언\n",
    "age1 = 30;  // 할당\n",
    "\n",
    "System.out.println(age);\n",
    "System.out.println(age1);"
   ]
  },
  {
   "cell_type": "raw",
   "id": "04326522-b7f0-43a2-8e92-c3e1e6a8b2e8",
   "metadata": {},
   "source": [
    "- 데이터타입 : 기본형 4가지를 제외한 나머지는 모두 참조형\n",
    "            [1] 정수형 : 소숫점이 존재하지 않는 숫자\n",
    "            [2] 실수형 : 소숫점이 존재하는 숫자\n",
    "            [3] 문자형 : 문자 한글자\n",
    "            [4] 논리형 : 참/거짓을 판별하는 타입\n",
    "\n",
    "            - 컴퓨터 언어는 0과 1로 전달(1bit)\n",
    "            (1) 1byte : 8bit(-2^7 ~ 2^7-1) : -128 ~ 127\n",
    "            (2) 2byte : 16bit(-2^15 ~ 2^15-1) : -32768 ~ 32767\n",
    "            (3) 4byte : 32bit 약 -21억 ~ 21억\n",
    "            (4) 8byte : 64bit  ~\n",
    "\n",
    "            범위      :   1byte       2byte       4byte       8byte\n",
    "            정수형    :   byte        short       int         long\n",
    "            실수형    :                           float       double\n",
    "            문자형    :               char\n",
    "            논리형    :   boolean"
   ]
  },
  {
   "cell_type": "code",
   "execution_count": 66,
   "id": "cdccb5a0-8b9a-424d-9639-07f325204f0c",
   "metadata": {},
   "outputs": [
    {
     "name": "stdout",
     "output_type": "stream",
     "text": [
      "A\n",
      "65\n",
      "66\n",
      "44032\n"
     ]
    }
   ],
   "source": [
    "long money = 2200000000L;   // long타입 뒤에 대문자 L를 붙여준다.\n",
    "float pi = 3.14f;           // float타입 뒤에 소문자 f를 붙여준다.\n",
    "\n",
    "// 문자형 char\n",
    "char char1 = 'A';\n",
    "System.out.println(char1);\n",
    "System.out.println((int)char1); // 65\n",
    "System.out.println((int)'B');   // 66\n",
    "System.out.println((int)'가');  // 44032"
   ]
  },
  {
   "cell_type": "markdown",
   "id": "c72d331a-cea1-474d-9816-6103cba45bf3",
   "metadata": {},
   "source": [
    "<h4>아스키코드</h4>\r\n",
    "Q. 본인 이름을 아스키코드로 바꿔보시오.  이름 한글자씩 char 변수에 담아서 진행한다."
   ]
  },
  {
   "cell_type": "code",
   "execution_count": 69,
   "id": "f5b75622-fe96-40ff-a7cc-8cb7274efc66",
   "metadata": {},
   "outputs": [
    {
     "name": "stdout",
     "output_type": "stream",
     "text": [
      "52572\n",
      "50672\n",
      "50864\n"
     ]
    }
   ],
   "source": [
    "char name1 = '최';\n",
    "char name2 = '연';\n",
    "char name3 = '우';\n",
    "\n",
    "System.out.println((int)name1);\n",
    "System.out.println((int)name2);\n",
    "System.out.println((int)name3);"
   ]
  },
  {
   "cell_type": "code",
   "execution_count": 71,
   "id": "f2596876-de72-4b4f-8d0a-728247595f91",
   "metadata": {},
   "outputs": [
    {
     "name": "stdout",
     "output_type": "stream",
     "text": [
      "최\n",
      "연\n",
      "우\n"
     ]
    }
   ],
   "source": [
    "int ch1 = 52572;\n",
    "int ch2 = 50672;\n",
    "int ch3 = 50864;\n",
    "\n",
    "System.out.println((char)ch1);\n",
    "System.out.println((char)ch2);\n",
    "System.out.println((char)ch3);"
   ]
  },
  {
   "cell_type": "code",
   "execution_count": 73,
   "id": "9c0f60e3-6c60-4155-b749-83c9cd2b590a",
   "metadata": {},
   "outputs": [
    {
     "name": "stdout",
     "output_type": "stream",
     "text": [
      "true\n",
      "false\n",
      "false\n",
      "true\n"
     ]
    }
   ],
   "source": [
    "// 논리형 : 참(true) / 거짓(false) 판별\n",
    "boolean bool1 = true;\n",
    "boolean bool2 = false;\n",
    "\n",
    "System.out.println(bool1);\n",
    "System.out.println(bool2);\n",
    "\n",
    "boolean result1;\n",
    "boolean result2;\n",
    "\n",
    "int num1 = 10;\n",
    "int num2 = 20;\n",
    "\n",
    "result1 = num1 > num2;  // 10 > 20 (거짓)\n",
    "result2 = num2 < 30;    // 20 < 30 (참)\n",
    "\n",
    "System.out.println(result1);    // false\n",
    "System.out.println(result2);    // true"
   ]
  },
  {
   "cell_type": "markdown",
   "id": "0466d5e9-9c48-42da-9c65-600bdc405689",
   "metadata": {},
   "source": [
    "<H1> 3.문자열(문장형) 데이터 타입(String) </H1>"
   ]
  },
  {
   "cell_type": "code",
   "execution_count": 76,
   "id": "b4355fe0-46e4-453c-9f81-bb083e225b88",
   "metadata": {},
   "outputs": [
    {
     "name": "stdout",
     "output_type": "stream",
     "text": [
      "자바\n",
      "재미있어\n",
      "너무 어려워\n",
      "자바 재미있어 너무 어려워\n"
     ]
    }
   ],
   "source": [
    "// String : 문자열, 문장형 (문자형 데이터의 모임)\n",
    "// 기호는 큰따옴표(\") 사용\n",
    "\n",
    "char a = 'a';\n",
    "String b = \"b\";\n",
    "\n",
    "String str1 = \"자바\";\n",
    "String str2 = \"재미있어\";\n",
    "String str3 = \"너무 어려워\";\n",
    "\n",
    "System.out.println(str1);\n",
    "System.out.println(str2);\n",
    "System.out.println(str3);\n",
    "\n",
    "String msg;\n",
    "msg = str1 + \" \" + str2 +\" \"+ str3;\n",
    "System.out.println(msg);"
   ]
  },
  {
   "cell_type": "code",
   "execution_count": 78,
   "id": "ffb7ece3-6447-49f0-a9d5-702a6f225654",
   "metadata": {},
   "outputs": [
    {
     "name": "stdout",
     "output_type": "stream",
     "text": [
      "30\n",
      "자바30\n",
      "1020\n"
     ]
    }
   ],
   "source": [
    "int num1 = 10;\n",
    "int num2 = 20;\n",
    "int num3 = num1 + num2;\n",
    "System.out.println(num3);   // 예상결과 : 30\n",
    "\n",
    "System.out.println(str1 + num3);    // 예상결과 : 자바30\n",
    "System.out.println(num1+\"\"+num2);   // 예상결과 : 1020\n",
    "\n",
    "// String 타입은 다른 데이터 타입과 조합할 경우모두 String으로 변환돼서 결과가 출력된다.\n",
    "// 자바30에서 30은 숫자30이라 아니라 문자 3(삼)0(영)\n",
    "// 1020도 숫자 1020이 아니라 문자 1020(일공이공)으로 변환된다."
   ]
  },
  {
   "cell_type": "markdown",
   "id": "645f8796-85de-4726-b506-2ff2213f52ea",
   "metadata": {},
   "source": [
    "<H1> 4.변수 이름 만들기 </H1>"
   ]
  },
  {
   "cell_type": "code",
   "execution_count": 81,
   "id": "9e3b21b7-b68e-4182-a683-05212c266cd1",
   "metadata": {},
   "outputs": [],
   "source": [
    "/*\n",
    "- 변수 이름 만드는 규칙\n",
    "[1] 카멜(낙타) 표기법\n",
    ": 시작은 소문자, 다른 뜻의 단어가 나올 경우 첫글자 대문자로\n",
    "ex) 학생수 : numberOfStudent\n",
    "[2] 영문자, 숫자, 특수문자( 언더바(_), 달러($) )만 사용가능\n",
    "[3] 숫자로 시작할 수 없다.\n",
    "[4] 예약어(public, class, static, int 등등)는 사용할 수 없다.\n",
    "        */\n",
    "\n",
    "int numberOfStudent;\n",
    "String str1;\n",
    "int num_1;\n",
    "int num$1;\n",
    "\n",
    "// int num#;    // 특수문자 #은 사용할 수 없다.\n",
    "// int 1num;    // 숫자로 시작할 수 없다.\n",
    "int _num;\n",
    "int $num;\n",
    "// int package;     // 예약어는 사용할 수 없다.\n",
    "// int int;         // 예약어는 사용할 수 없다.\n",
    "// String int;      // 예약어는 사용할 수 없다.\n"
   ]
  },
  {
   "cell_type": "raw",
   "id": "489d43b5-d35d-4686-8e9f-7f675151863b",
   "metadata": {
    "jp-MarkdownHeadingCollapsed": true
   },
   "source": [
    "== 특수문자 ==\n",
    "\n",
    "` 백틱(Backtick), 그레이브(Grave)\n",
    "~ 물결, 틸드(Tilde)\n",
    "! 느낌표, 엑스클러메이션(Exclamatin mark)\n",
    "@ 골뱅이, 앳(At sign)\n",
    "# 우물정, 샵(Sharp), 넘버(Number sign)\n",
    "$ 달러(Dollar sign)\n",
    "% 퍼센트(Percent sign)\n",
    "^ 캐럿(Caret)\n",
    "& 앤드, 엠퍼센드(Ampersand)\n",
    "* 별표, 에스터리스크(Asterisk)\n",
    "- 짝대기, 바(bar), 마이너스(minus), 하이픈(Hyphen), 대시(Dash)\n",
    "_ 밑줄, 언더바, 언더스코어(underscore), 로대시(Lowdash)\n",
    "= 같다, 이퀄(Equals sign)\n",
    "+ 더하기, 플러스(Plus sign)\n",
    "\" 큰따옴표, 더블쿼터, 쿼테이션(Quotation mark)\n",
    "' 작은따옴표, 싱글쿼터, 아포스트로피(Apostrophe)\n",
    ": 땡땡, 콜론(Colon)\n",
    "; 땀표시, 세미콜론(Semicolon)\n",
    ", 쉼표, 콤마(Comma)\n",
    ". 점, 닷(dot), 피리어드(Period)\n",
    "? 물음표, 퀘스천(Question mark)\n",
    "/ 슬래시(Slash)\n",
    "\\ 백슬래시(Backslash)\n",
    "| 버티컬바(Vertical bar)\n",
    "() : 괄호(소괄호), 퍼렌서시스(Parenthesis)\n",
    "{} : 중괄호, 브레이스(Brace)\n",
    "[] : 대괄호, 브래킷(Bracket)\n",
    "<> : 꺽쇠, 앵글브래킷(Angle Bracket)"
   ]
  },
  {
   "cell_type": "code",
   "execution_count": null,
   "id": "4d7f9ea7-1e3e-460a-a353-30226e9f18ce",
   "metadata": {},
   "outputs": [],
   "source": []
  },
  {
   "cell_type": "code",
   "execution_count": null,
   "id": "97a5229c-41b7-4821-b3ac-ef592ea2d2d9",
   "metadata": {},
   "outputs": [],
   "source": []
  }
 ],
 "metadata": {
  "kernelspec": {
   "display_name": "Java",
   "language": "java",
   "name": "java"
  },
  "language_info": {
   "codemirror_mode": "java",
   "file_extension": ".jshell",
   "mimetype": "text/x-java-source",
   "name": "Java",
   "pygments_lexer": "java",
   "version": "11.0.24+7-LTS-271"
  }
 },
 "nbformat": 4,
 "nbformat_minor": 5
}
