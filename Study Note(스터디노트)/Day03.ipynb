{
 "cells": [
  {
   "cell_type": "markdown",
   "id": "551a6976-bc6a-49f5-ace3-ecdc47688983",
   "metadata": {},
   "source": [
    "<h1>01_if</h1>\n",
    "\n",
    "if : 만약에\n",
    "\n",
    "[ if문 구조 ]\n",
    "\r",
    " if(조건){ \n",
    "\n",
    "     해당 조건이 '참'일 경우 실행되 구문\n",
    "    \n",
    " }elses      \n",
    " \n",
    "    해당 조건이 '거짓'일 경우 실되는 구문\n",
    "    \n",
    "}"
   ]
  },
  {
   "cell_type": "code",
   "execution_count": 9,
   "id": "39ea4568-1e62-43db-a4f4-4a3084bfa543",
   "metadata": {},
   "outputs": [
    {
     "name": "stdout",
     "output_type": "stream",
     "text": [
      "해당 조건이 '거짓'일 경우 실행되는 구문\n"
     ]
    }
   ],
   "source": [
    " if(false) {\n",
    "    System.out.println(\"해당 조건이 '참'일 경우 실행되는 구문\");\n",
    " } else {\n",
    "    System.out.println(\"해당 조건이 '거짓'일 경우 실행되는 구문\");\n",
    "}"
   ]
  },
  {
   "cell_type": "code",
   "execution_count": 13,
   "id": "63a7cfcc-4f86-48f4-bf53-7d53049d3be1",
   "metadata": {},
   "outputs": [
    {
     "name": "stdout",
     "output_type": "stream",
     "text": [
      "오답입니다.\n"
     ]
    }
   ],
   "source": [
    "// (1) 조건식\n",
    "if(true && false){\n",
    "    System.out.println(\"정답입니다.\");\n",
    "} else {\n",
    "    System.out.println(\"오답입니다.\");\n",
    "}"
   ]
  },
  {
   "cell_type": "code",
   "execution_count": 15,
   "id": "a536407d-fea0-4221-908e-07f057773ab9",
   "metadata": {},
   "outputs": [
    {
     "name": "stdout",
     "output_type": "stream",
     "text": [
      "condition은 false입니다.\n"
     ]
    }
   ],
   "source": [
    "// (2) 조건변수\n",
    "boolean condition = true;\n",
    "\n",
    "if(!condition){\n",
    "    System.out.println(\"condition은 true입니다.\");\n",
    "} else {\n",
    "    System.out.println(\"condition은 false입니다.\");\n",
    "}"
   ]
  },
  {
   "cell_type": "raw",
   "id": "508843e9-2fdf-4727-a16c-04854ad13a11",
   "metadata": {},
   "source": [
    "Q. 내 나이는 10살\n",
    "(만약에) 나이가 8살 이상이면\n",
    "\"초등학교에 갑니다\" 출력\n",
    "(그렇지 않으면) \"초등학교에 가지 않습니다\" 출력"
   ]
  },
  {
   "cell_type": "code",
   "execution_count": 19,
   "id": "20c89e20-bb6e-4f93-ba8d-a91f6941a057",
   "metadata": {},
   "outputs": [
    {
     "name": "stdout",
     "output_type": "stream",
     "text": [
      "내 나이는 몇살? >> "
     ]
    },
    {
     "name": "stdin",
     "output_type": "stream",
     "text": [
      " 13\n"
     ]
    },
    {
     "name": "stdout",
     "output_type": "stream",
     "text": [
      "초등학교에 갑니다.\n"
     ]
    }
   ],
   "source": [
    "// 나이를 입력 받아서 작동\n",
    "Scanner sc = new Scanner(System.in);\n",
    "\n",
    "System.out.print(\"내 나이는 몇살? >> \");\n",
    "int age = sc.nextInt();\n",
    "\n",
    "if(age >= 8  && age <= 13){\n",
    "    System.out.println(\"초등학교에 갑니다.\");\n",
    "} else {\n",
    "    System.out.println(\"초등학교에 가지 않습니다.\");\n",
    "}"
   ]
  },
  {
   "cell_type": "raw",
   "id": "4fcce835-971a-4c8b-b090-abeea9bd68c4",
   "metadata": {},
   "source": [
    "Q. 이름을 입력받아서 입력받은 이름이 본인 이름이면 \"본인이름은 xxx(입력받은값) 입니다.\" 출력\n",
    "본인 이름이 아니면 \"본인이름은 xxx(입력받은값)이 아닙니다.\" 출력"
   ]
  },
  {
   "cell_type": "markdown",
   "id": "becac8ed-20e7-4076-978a-c1e30d7eb301",
   "metadata": {},
   "source": [
    "System.out.print(\"이름 입력 >> \");\n",
    "String name = sc.next();\n",
    "\n",
    "if(name.equals(\"Sarah\")){\n",
    "    System.out.println(\"본인이름은 \" + name + \" 입니다.\");\n",
    "} else {\n",
    "    System.out.println(\"본인이름은 \" + name + \" 이 아닙니다.\");\n",
    "}\n",
    "\n",
    "// == 두 객체의 메모리 주소(참조)를 비교\n",
    "// .equals() 두 객체의 실제 내용(값)을 비교"
   ]
  },
  {
   "cell_type": "raw",
   "id": "1a47ddfe-4c81-488c-bb94-578da626bd30",
   "metadata": {},
   "source": [
    "Q. id와 pw를 \"입력\" 받아서\n",
    "id가 \"icia\"이고 pw가 \"1234\"라면\n",
    "\"로그인 성공\" 출력\n",
    "그렇지 않다면 \"로그인 실패\" 출력"
   ]
  },
  {
   "cell_type": "code",
   "execution_count": 39,
   "id": "3eb6e372-0e6d-45bd-a447-0d729093024f",
   "metadata": {},
   "outputs": [
    {
     "name": "stdout",
     "output_type": "stream",
     "text": [
      "아이디 입력 >> "
     ]
    },
    {
     "name": "stdin",
     "output_type": "stream",
     "text": [
      " icia\n"
     ]
    },
    {
     "name": "stdout",
     "output_type": "stream",
     "text": [
      "비밀번호 입력 >> "
     ]
    },
    {
     "name": "stdin",
     "output_type": "stream",
     "text": [
      " 1234\n"
     ]
    },
    {
     "name": "stdout",
     "output_type": "stream",
     "text": [
      "로그인 성공!\n"
     ]
    }
   ],
   "source": [
    "Scanner sc = new Scanner(System.in);\n",
    "\n",
    "System.out.print(\"아이디 입력 >> \");\n",
    "String id = sc.next();\n",
    "\n",
    "System.out.print(\"비밀번호 입력 >> \");\n",
    "String pw = sc.next();\n",
    "\n",
    "if(id.equals(\"icia\") && pw.equals(\"1234\")){\n",
    "    System.out.println(\"로그인 성공!\");\n",
    "} else {\n",
    "    System.out.println(\"로그인 실패!\");\n",
    "}"
   ]
  },
  {
   "cell_type": "markdown",
   "id": "b241da28-f219-41ef-9fcc-e8ed00127c7d",
   "metadata": {},
   "source": [
    "<h1>03_elseif</h1>"
   ]
  },
  {
   "cell_type": "code",
   "execution_count": 42,
   "id": "27b0f1d9-8841-4839-956a-9d4a6742f17e",
   "metadata": {},
   "outputs": [
    {
     "name": "stdout",
     "output_type": "stream",
     "text": [
      "num1과 num2가 같다\n"
     ]
    }
   ],
   "source": [
    "int num1 = 5;\n",
    "int num2 = 5;\n",
    "        \n",
    "//if(num1 > num2){\n",
    "//System.out.println(\"num1이 크다\");\n",
    "//} else {\n",
    "//System.out.println(\"num2가 크다\");\n",
    "//}\n",
    "        \n",
    "if(num1 > num2){\n",
    "    System.out.println(\"num1이 크다\");\n",
    "} else if(num2 > num1){\n",
    "    System.out.println(\"num2가 크다\");\n",
    "} else {\n",
    "    System.out.println(\"num1과 num2가 같다\");\n",
    "}"
   ]
  },
  {
   "cell_type": "raw",
   "id": "2c5a2c0c-53cf-421b-809a-37bf0bb34687",
   "metadata": {},
   "source": [
    "[ else - if문 기본구조 ]\n",
    "\n",
    "if(조건1) {\n",
    "    조건1이 참일 경우 실행\n",
    "} else if(조건2) {\n",
    "    조건2가 참일 경우 실행\n",
    "} else if(조건n) {\n",
    "    조건n이 참일 경우 실행\n",
    "} else {\n",
    "    모든 조건이 거짓일 경우 실행\n",
    "}"
   ]
  },
  {
   "cell_type": "raw",
   "id": "2ab0cf05-0df5-4075-b0de-6f0618b273f3",
   "metadata": {},
   "source": [
    "Q. 성적출력 예제\n",
    "점수(score)를 \"입력\" 받아서\n",
    "90점 이상이면 \"A학점\" 출력\n",
    "A : 90~100(90점이상)\n",
    "B : 80~89(80점이상)\n",
    "C : 70~79(70점이상)\n",
    "D : 60~69(60점이상)\n",
    "F : 0~59(60점미만)"
   ]
  },
  {
   "cell_type": "code",
   "execution_count": 46,
   "id": "ee687370-04c5-40ff-84af-482b7d3a9844",
   "metadata": {},
   "outputs": [
    {
     "name": "stdout",
     "output_type": "stream",
     "text": [
      "점수 입력 >> "
     ]
    },
    {
     "name": "stdin",
     "output_type": "stream",
     "text": [
      " 89\n"
     ]
    },
    {
     "name": "stdout",
     "output_type": "stream",
     "text": [
      "B학점\n"
     ]
    }
   ],
   "source": [
    "Scanner sc = new Scanner(System.in);\n",
    "System.out.print(\"점수 입력 >> \");\n",
    "int score = sc.nextInt();\n",
    "        \n",
    "        if(score >= 90){\n",
    "            System.out.println(\"A학점\");\n",
    "        } else if(score >=80){\n",
    "            System.out.println(\"B학점\");\n",
    "        } else if(score >=70){\n",
    "            System.out.println(\"C학점\");\n",
    "        } else if(score >=60){\n",
    "            System.out.println(\"D학점\");\n",
    "        } else {\n",
    "            System.out.println(\"F학점\");\n",
    "        }\n"
   ]
  },
  {
   "cell_type": "markdown",
   "id": "eebd19b1-0bae-4c7c-8547-d35a76db9384",
   "metadata": {},
   "source": [
    "<h1>04_Nestedif</h1>"
   ]
  },
  {
   "cell_type": "raw",
   "id": "5e4065ff-3fd6-4394-a912-0c948138c4b4",
   "metadata": {},
   "source": [
    "[ 중첩 if문 기본구조 ] : if문 안에 또 if문\n",
    "            if(조건){\n",
    "                if(조건){\n",
    "            \n",
    "                } else {\n",
    "                \n",
    "                }    \n",
    "            } else if(조건) {\n",
    "                if(조건){\n",
    "            \n",
    "                } else {\n",
    "                \n",
    "                } \n",
    "            } else {\n",
    "                if(조건){\n",
    "            \n",
    "                } else {\n",
    "                \n",
    "                } \n",
    "            }     "
   ]
  },
  {
   "cell_type": "code",
   "execution_count": 49,
   "id": "a52bb4a6-ed10-40e8-b8a9-54e98c447716",
   "metadata": {},
   "outputs": [
    {
     "name": "stdout",
     "output_type": "stream",
     "text": [
      "점수 입력 >> "
     ]
    },
    {
     "name": "stdin",
     "output_type": "stream",
     "text": [
      " 86\n"
     ]
    },
    {
     "name": "stdout",
     "output_type": "stream",
     "text": [
      "B+학점\n"
     ]
    }
   ],
   "source": [
    " Scanner sc = new Scanner(System.in);\n",
    "        System.out.print(\"점수 입력 >> \");\n",
    "        int score = sc.nextInt();\n",
    "        String grade = \"\";\n",
    "\n",
    "        if(score >= 90){\n",
    "            grade = \"A\";\n",
    "        } else if(score >=80){\n",
    "            grade = \"B\";\n",
    "        } else if(score >=70){\n",
    "            grade = \"C\";\n",
    "        } else if(score >=60){\n",
    "            grade = \"D\";\n",
    "        } else {\n",
    "            grade = \"F\";\n",
    "        }\n",
    "\n",
    "        if(score > 60 && score % 10 >= 5){\n",
    "            // grade = grade + \"+\";\n",
    "            // 기존 grade 데이터에 \"+\" 를 붙여서 grade 변수에 담는다.\n",
    "            grade += \"+\";\n",
    "        }\n",
    "\n",
    "        System.out.println(grade + \"학점\");"
   ]
  },
  {
   "cell_type": "code",
   "execution_count": 59,
   "id": "1a28e2e4-cfec-4796-96fa-d55d0570a6df",
   "metadata": {},
   "outputs": [
    {
     "name": "stdout",
     "output_type": "stream",
     "text": [
      "국어 점수 >> "
     ]
    },
    {
     "name": "stdin",
     "output_type": "stream",
     "text": [
      " 87\n"
     ]
    },
    {
     "name": "stdout",
     "output_type": "stream",
     "text": [
      "영어 점수 >> "
     ]
    },
    {
     "name": "stdin",
     "output_type": "stream",
     "text": [
      " 95\n"
     ]
    },
    {
     "name": "stdout",
     "output_type": "stream",
     "text": [
      "수학 점수 >> "
     ]
    },
    {
     "name": "stdin",
     "output_type": "stream",
     "text": [
      " 46\n"
     ]
    },
    {
     "name": "stdout",
     "output_type": "stream",
     "text": [
      "\n",
      " === 성적표 === \n",
      " 국어 : 87점\n",
      " 영어 : 95점\n",
      " 수학 : 46점\n",
      " ============= \n",
      " 총점 : 228점\n",
      " 평균 : 76.0점\n",
      " 학점 : C+\n"
     ]
    }
   ],
   "source": [
    "import java.util.Scanner;\n",
    "Scanner sc = new Scanner(System.in);\n",
    "\n",
    "        System.out.print(\"국어 점수 >> \");\n",
    "        int kor = sc.nextInt();\n",
    "\n",
    "        System.out.print(\"영어 점수 >> \");\n",
    "        int eng = sc.nextInt();\n",
    "\n",
    "        System.out.print(\"수학 점수 >> \");\n",
    "        int math = sc.nextInt();\n",
    "        \n",
    "        // 총점(sum), 평균(avg), 학점(grade)\n",
    "        int sum = 0;\n",
    "        double avg = 0.0;\n",
    "        String grade = \"\";\n",
    "        \n",
    "        // 총점 구하기 (3과목의 점수를 더한 값)\n",
    "        sum = kor + eng + math;\n",
    "\n",
    "        // 평균 구하기 (총점을 3으로 나눈 값)\n",
    "        avg = (double) sum / 3 ;\n",
    "\n",
    "        // Math.round() : 반올림 함수\n",
    "        avg = Math.round(avg * 100.0) / 100.0;\n",
    "\n",
    "        if(avg >= 90){\n",
    "            grade = \"A\";\n",
    "        } else if(avg >=80){\n",
    "            grade = \"B\";\n",
    "        } else if(avg >=70){\n",
    "            grade = \"C\";\n",
    "        } else if(avg >=60){\n",
    "            grade = \"D\";\n",
    "        } else {\n",
    "            grade = \"F\";\n",
    "        }\n",
    "\n",
    "        if(avg > 60 && avg % 10 >= 5){\n",
    "            grade += \"+\";\n",
    "        }\n",
    "\n",
    "        System.out.println();\n",
    "        System.out.println(\" === 성적표 === \");\n",
    "        System.out.println(\" 국어 : \" + kor + \"점\");\n",
    "        System.out.println(\" 영어 : \" + eng + \"점\");\n",
    "        System.out.println(\" 수학 : \" + math + \"점\");\n",
    "        System.out.println(\" ============= \");\n",
    "        System.out.println(\" 총점 : \" + sum + \"점\");\n",
    "        System.out.println(\" 평균 : \" + avg + \"점\");\n",
    "        // System.out.printf(\" 평균 : %.2f점%n\",avg);\n",
    "        System.out.println(\" 학점 : \" + grade );\n",
    "\n",
    "        sc.close();"
   ]
  },
  {
   "cell_type": "markdown",
   "id": "59e60ddb-d748-437e-9b02-b70d9821a320",
   "metadata": {},
   "source": [
    "<h1>06_switch</h1>\n",
    "\n",
    "숫자를 입력받고  if문을 사용해서 입력한 값이 1, 2, 3, 그외에 숫자를 입력했을 때 출력되는 메세지를 확인하시오.\n",
    "    \n",
    "    ex) num에 1을 입력했을 때 => 1을 입력했습니다 메세지 출력"
   ]
  },
  {
   "cell_type": "code",
   "execution_count": 80,
   "id": "7fce5081-ca9a-4fff-9404-d0f77d581c11",
   "metadata": {},
   "outputs": [
    {
     "name": "stdout",
     "output_type": "stream",
     "text": [
      "숫자 입력 >> "
     ]
    },
    {
     "name": "stdin",
     "output_type": "stream",
     "text": [
      " 2\n"
     ]
    },
    {
     "name": "stdout",
     "output_type": "stream",
     "text": [
      "2를 입력했습니다.\n"
     ]
    }
   ],
   "source": [
    "import java.util.Scanner;\n",
    "Scanner sc = new Scanner(System.in);\n",
    "\n",
    "        System.out.print(\"숫자 입력 >> \");\n",
    "        int num = sc.nextInt();\n",
    "\n",
    " switch (num){\n",
    "            case 1:\n",
    "                System.out.println(\"1을 입력했습니다.\");\n",
    "                break;\n",
    "            case 2:\n",
    "                System.out.println(\"2를 입력했습니다.\");\n",
    "                break;\n",
    "            case 3:\n",
    "                System.out.println(\"3을 입력했습니다.\");\n",
    "                break;\n",
    "            default:\n",
    "                System.out.println(\"그 외에 값을 입력했습니다.\");\n",
    "                break;\n",
    "        }"
   ]
  },
  {
   "cell_type": "code",
   "execution_count": 78,
   "id": "71db77c6-4052-4e6c-9cd2-02a96de9811b",
   "metadata": {},
   "outputs": [
    {
     "name": "stdin",
     "output_type": "stream",
     "text": [
      " 봄\n"
     ]
    }
   ],
   "source": [
    "import java.util.Scanner;\n",
    "Scanner sc = new Scanner(System.in);\n",
    "\n",
    "String choice = sc.next();\n",
    "\n",
    "        switch (choice){\n",
    "            case \"봄\" :\n",
    "                break;\n",
    "            case \"여름\":\n",
    "                break;\n",
    "            default:\n",
    "                break;\n",
    "        }"
   ]
  },
  {
   "cell_type": "code",
   "execution_count": null,
   "id": "d6c56cb8-0a2c-41c9-8df7-29630447e19d",
   "metadata": {},
   "outputs": [],
   "source": [
    "[ switch문의 기본구조 ]\n",
    "\n",
    "            switch(조건 \"변수\"){\n",
    "                case 변수값1 :\n",
    "                    조건변수의 값이 변수값1 일때 실행;\n",
    "                    break;\n",
    "\n",
    "                case 변수값2 :\n",
    "                    조건변수의 값이 변수값2 일때 실행;\n",
    "                    break;\n",
    "\n",
    "                case 변수값n :\n",
    "                    조건변수의 값이 변수값n 일때 실행;\n",
    "                    break;\n",
    "\n",
    "                default :\n",
    "                    case에서 어떤 조건도 맞지 않을 경우 실행;\n",
    "                    break;\n",
    "            }"
   ]
  },
  {
   "cell_type": "markdown",
   "id": "88ce7033-15f4-4772-8a75-30a107175fd5",
   "metadata": {},
   "source": [
    "<h1>07_switch2</h1>\n",
    "\n",
    "Q. 월(month)을 입력받아서 해당월에 날짜를 계산하시오.\n",
    "\r",
    " ex) 8월을 입력할 경우 31일이 출력되도록\n",
    " \n",
    "31일 : 1월, 3월, 5월, 7월, 8월, 10월, 12\n",
    "\n",
    "30일 : 4월, 6월, 9월, 11월\n",
    "\r",
    "28일 : 2월"
   ]
  },
  {
   "cell_type": "code",
   "execution_count": 87,
   "id": "e36dbafd-c99d-41f7-8956-c67fdf19cb5b",
   "metadata": {},
   "outputs": [
    {
     "name": "stdout",
     "output_type": "stream",
     "text": [
      "해당 월을 입력해주세요 >> "
     ]
    },
    {
     "name": "stdin",
     "output_type": "stream",
     "text": [
      " 8\n"
     ]
    },
    {
     "name": "stdout",
     "output_type": "stream",
     "text": [
      "8월은 31일까지 있습니다.\n"
     ]
    }
   ],
   "source": [
    "import java.util.Scanner;\n",
    "Scanner sc = new Scanner(System.in);\n",
    "        int month;\n",
    "        int day = 0;\n",
    "\n",
    "        System.out.print(\"해당 월을 입력해주세요 >> \");\n",
    "        month = sc.nextInt();\n",
    "\n",
    "        switch (month){\n",
    "            case 1: case 3: case 5: case 7: case 8: case 10: case 12:\n",
    "                day = 31;\n",
    "                break;\n",
    "            case 2:\n",
    "                day = 28;\n",
    "                break;\n",
    "            case 4: case 6: case 9: case 11:\n",
    "                day = 30;\n",
    "                break;\n",
    "            default:\n",
    "                System.out.println(\"범위 초과\");\n",
    "                break;\n",
    "        }\n",
    "\n",
    "        // 1월부터 12월까지만 메세지가 출력되도록 수정\n",
    "        if(month >= 1 && month <= 12){\n",
    "            System.out.println(month + \"월은 \" + day + \"일까지 있습니다.\");\n",
    "        }\n",
    "\n",
    "        sc.close();"
   ]
  },
  {
   "cell_type": "markdown",
   "id": "0dc32952-50dc-4fb5-bcca-f6e447317e19",
   "metadata": {},
   "source": [
    "<h1>08_Cafe</h1>"
   ]
  },
  {
   "cell_type": "code",
   "execution_count": 90,
   "id": "36a450aa-582f-49a0-bb58-b32dd23bc2d3",
   "metadata": {},
   "outputs": [
    {
     "name": "stdout",
     "output_type": "stream",
     "text": [
      "\u001b[31m┌────────────────────────────────────────────────────────────────────────────────┐\u001b[0m\n",
      "\u001b[33m│\u001b[0m                               \u001b[34m___\u001b[0m                                              \u001b[33m│\u001b[0m\n",
      "\u001b[32m│\u001b[0m                               \u001b[34m\\\\ \\\u001b[0m                                             \u001b[32m│\u001b[0m\n",
      "\u001b[36m│\u001b[0m                                \u001b[34m\\\\ `\\\u001b[0m                                           \u001b[36m│\u001b[0m\n",
      "\u001b[34m│\u001b[0m             \u001b[34m___                 \\\\  \\\u001b[0m                                          \u001b[34m│\u001b[0m\n",
      "\u001b[35m│\u001b[0m            \u001b[34m|    \\                \\\\  `\\\u001b[0m                                        \u001b[35m│\u001b[0m\n",
      "\u001b[31m│\u001b[0m            \u001b[34m|_____\\                \\    \\\u001b[0m                                       \u001b[31m│\u001b[0m\n",
      "\u001b[33m│\u001b[0m            \u001b[34m|______\\                \\    `\\\u001b[0m                                     \u001b[33m│\u001b[0m\n",
      "\u001b[32m│\u001b[0m            \u001b[34m|       \\                \\     \\\u001b[0m                                    \u001b[32m│\u001b[0m\n",
      "\u001b[36m│\u001b[0m            \u001b[34m|      __\\__---------------------------------._.\u001b[0m                    \u001b[36m│\u001b[0m\n",
      "\u001b[34m│\u001b[0m          \u001b[34m__|---~~~__o_o_o_o_o_o_o_o_o_o_o_o_o_o_o_o_o_o_[][\\__\u001b[0m                 \u001b[34m│\u001b[0m\n",
      "\u001b[35m│\u001b[0m            \u001b[34m|___                         /~      )                \\__\u001b[0m           \u001b[35m│\u001b[0m\n",
      "\u001b[31m│\u001b[0m                 \u001b[34m~~~---..._______________/      ,/_________________/\u001b[0m            \u001b[31m│\u001b[0m\n",
      "\u001b[33m│\u001b[0m                                        \u001b[34m/      /\u001b[0m                                \u001b[33m│\u001b[0m\n",
      "\u001b[32m│\u001b[0m                                      \u001b[34m/     ,/\u001b[0m                                  \u001b[32m│\u001b[0m\n",
      "\u001b[36m│\u001b[0m                                     \u001b[34m/     /\u001b[0m                                    \u001b[36m│\u001b[0m\n",
      "\u001b[34m│\u001b[0m                                    \u001b[34m/    ,/\u001b[0m                                     \u001b[34m│\u001b[0m\n",
      "\u001b[35m│\u001b[0m                                   \u001b[34m/    /\u001b[0m                                       \u001b[35m│\u001b[0m\n",
      "\u001b[31m│\u001b[0m                                  \u001b[34m//  ,/\u001b[0m                                        \u001b[31m│\u001b[0m\n",
      "\u001b[33m│\u001b[0m                                 \u001b[34m//  /\u001b[0m                                          \u001b[33m│\u001b[0m\n",
      "\u001b[32m│\u001b[0m                                \u001b[34m// ,/\u001b[0m                                           \u001b[32m│\u001b[0m\n",
      "\u001b[36m│\u001b[0m                               \u001b[34m//_/\u001b[0m                                             \u001b[36m│\u001b[0m\n",
      "\u001b[34m│\u001b[0m                                                                                \u001b[34m│\u001b[0m\n",
      "\u001b[35m└────────────────────────────────────────────────────────────────────────────────┘\u001b[0m\n",
      "ICIA Cafe에 오신 것을 환영합니다!\n",
      "주문을 도와드리겠습니다.\n",
      "\n",
      "==================================\n",
      "1.아메리카노\t\t2.바닐라라떼\n",
      "3.자몽허니블랙티\t4.바닐라초코칩모카\n",
      "==================================\n",
      "\n",
      "메뉴 선택 >> "
     ]
    },
    {
     "name": "stdin",
     "output_type": "stream",
     "text": [
      " 3\n"
     ]
    },
    {
     "name": "stdout",
     "output_type": "stream",
     "text": [
      "\n",
      "주문하신 메뉴는 자몽허니블랙티\n",
      "가격은 3500원 입니다.\n",
      "이용해 주셔서 감사합니다.\n"
     ]
    }
   ],
   "source": [
    "import java.util.Scanner;\n",
    "\n",
    "public static final String black = \"\\u001B[30m\";\n",
    "public static final String red = \"\\u001B[31m\";\n",
    "public static final String green = \"\\u001B[32m\";\n",
    "public static final String yellow = \"\\u001B[33m\";\n",
    "public static final String blue = \"\\u001B[34m\";\n",
    "public static final String purple = \"\\u001B[35m\";\n",
    "public static final String cyan = \"\\u001B[36m\";\n",
    "public static final String white = \"\\u001B[37m\";\n",
    "public static final String exit = \"\\u001B[0m\";\n",
    "\n",
    "// 키오스크(KIOSK) : 무인결제 시스템\n",
    "        Scanner sc = new Scanner(System.in);\n",
    "\n",
    "        // 선택할 메뉴의 번호\n",
    "        int choice = 0;\n",
    "\n",
    "        // 메뉴 이름\n",
    "        String menu = \"\";\n",
    "\n",
    "        // 메뉴 가격\n",
    "        int price = 0;\n",
    "        System.out.println(red+\"┌────────────────────────────────────────────────────────────────────────────────┐\"+exit);\n",
    "        System.out.println(yellow+\"│\"+exit+\"                               \"+blue+\"___\"+exit+\"                                              \"+yellow+\"│\"+exit);\n",
    "        System.out.println(green+\"│\"+exit+\"                               \"+blue+\"\\\\\\\\ \\\\\"+exit+\"                                             \"+green+\"│\"+exit);\n",
    "        System.out.println(cyan+\"│\"+exit+\"                                \"+blue+\"\\\\\\\\ `\\\\\"+exit+\"                                           \"+cyan+\"│\"+exit);\n",
    "        System.out.println(blue+\"│\"+exit+\"             \"+blue+\"___                 \\\\\\\\  \\\\\"+exit+\"                                          \"+blue+\"│\"+exit);\n",
    "        System.out.println(purple+\"│\"+exit+\"            \"+blue+\"|    \\\\                \\\\\\\\  `\\\\\"+exit+\"                                        \"+purple+\"│\"+exit);\n",
    "        System.out.println(red+\"│\"+exit+\"            \"+blue+\"|_____\\\\                \\\\    \\\\\"+exit+\"                                       \"+red+\"│\"+exit);\n",
    "        System.out.println(yellow+\"│\"+exit+\"            \"+blue+\"|______\\\\                \\\\    `\\\\\"+exit+\"                                     \"+yellow+\"│\"+exit);\n",
    "        System.out.println(green+\"│\"+exit+\"            \"+blue+\"|       \\\\                \\\\     \\\\\"+exit+\"                                    \"+green+\"│\"+exit);\n",
    "        System.out.println(cyan+\"│\"+exit+\"            \"+blue+\"|      __\\\\__---------------------------------._.\"+exit+\"                    \"+cyan+\"│\"+exit);\n",
    "        System.out.println(blue+\"│\"+exit+\"          \"+blue+\"__|---~~~__o_o_o_o_o_o_o_o_o_o_o_o_o_o_o_o_o_o_[][\\\\__\"+exit+\"                 \"+blue+\"│\"+exit);\n",
    "        System.out.println(purple+\"│\"+exit+\"            \"+blue+\"|___                         /~      )                \\\\__\"+exit+\"           \"+purple+\"│\"+exit);\n",
    "        System.out.println(red+\"│\"+exit+\"                 \"+blue+\"~~~---..._______________/      ,/_________________/\"+exit+\"            \"+red+\"│\"+exit);\n",
    "        System.out.println(yellow+\"│\"+exit+\"                                        \"+blue+\"/      /\"+exit+\"                                \"+yellow+\"│\"+exit);\n",
    "        System.out.println(green+\"│\"+exit+\"                                      \"+blue+\"/     ,/\"+exit+\"                                  \"+green+\"│\"+exit);\n",
    "        System.out.println(cyan+\"│\"+exit+\"                                     \"+blue+\"/     /\"+exit+\"                                    \"+cyan+\"│\"+exit);\n",
    "        System.out.println(blue+\"│\"+exit+\"                                    \"+blue+\"/    ,/\"+exit+\"                                     \"+blue+\"│\"+exit);\n",
    "        System.out.println(purple+\"│\"+exit+\"                                   \"+blue+\"/    /\"+exit+\"                                       \"+purple+\"│\"+exit);\n",
    "        System.out.println(red+\"│\"+exit+\"                                  \"+blue+\"//  ,/\"+exit+\"                                        \"+red+\"│\"+exit);\n",
    "        System.out.println(yellow+\"│\"+exit+\"                                 \"+blue+\"//  /\"+exit+\"                                          \"+yellow+\"│\"+exit);\n",
    "        System.out.println(green+\"│\"+exit+\"                                \"+blue+\"// ,/\"+exit+\"                                           \"+green+\"│\"+exit);\n",
    "        System.out.println(cyan+\"│\"+exit+\"                               \"+blue+\"//_/\"+exit+\"                                             \"+cyan+\"│\"+exit);\n",
    "        System.out.println(blue+\"│\"+exit+\"                                                                                \"+blue+\"│\"+exit);\n",
    "        System.out.println(purple+\"└────────────────────────────────────────────────────────────────────────────────┘\"+exit);\n",
    "\n",
    "        System.out.println(\"ICIA Cafe에 오신 것을 환영합니다!\");\n",
    "        System.out.println(\"주문을 도와드리겠습니다.\");\n",
    "\n",
    "        System.out.println(\"\\n==================================\");\n",
    "        System.out.println(\"1.아메리카노\\t\\t2.바닐라라떼\");\n",
    "        System.out.println(\"3.자몽허니블랙티\\t4.바닐라초코칩모카\");\n",
    "        System.out.println(\"==================================\\n\");\n",
    "\n",
    "        // \\n : 줄바꿈\n",
    "        // \\t : 간격(tab)만큼 공백\n",
    "        // 둘다 문자열 \"\" 안에서 사용\n",
    "        System.out.print(\"메뉴 선택 >> \");\n",
    "        choice = sc.nextInt();\n",
    "\n",
    "        switch (choice){\n",
    "            case 1:\n",
    "                menu = \"아메리카노\";\n",
    "                price = 2000;\n",
    "                break;\n",
    "            case 2:\n",
    "                menu = \"바닐라라떼\";\n",
    "                price = 3000;\n",
    "                break;\n",
    "            case 3:\n",
    "                menu = \"자몽허니블랙티\";\n",
    "                price = 3500;\n",
    "                break;\n",
    "            case 4:\n",
    "                menu = \"바닐라초코칩모카\";\n",
    "                price = 4000;\n",
    "                break;\n",
    "            default:\n",
    "                System.out.println(\"해당메뉴가 없습니다.\");\n",
    "                break;\n",
    "        }\n",
    "\n",
    "        if(choice >= 1 && choice <= 4){\n",
    "            System.out.println(\"\\n주문하신 메뉴는 \" + menu);\n",
    "            System.out.println(\"가격은 \" + price + \"원 입니다.\");\n",
    "        }\n",
    "\n",
    "        System.out.println(\"이용해 주셔서 감사합니다.\");"
   ]
  }
 ],
 "metadata": {
  "kernelspec": {
   "display_name": "Java",
   "language": "java",
   "name": "java"
  },
  "language_info": {
   "codemirror_mode": "java",
   "file_extension": ".jshell",
   "mimetype": "text/x-java-source",
   "name": "Java",
   "pygments_lexer": "java",
   "version": "11.0.24+7-LTS-271"
  }
 },
 "nbformat": 4,
 "nbformat_minor": 5
}
