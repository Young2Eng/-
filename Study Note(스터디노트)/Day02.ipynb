{
 "cells": [
  {
   "cell_type": "markdown",
   "id": "2d8eb6f3-8a84-4f97-bcdc-af9d54d3f4e0",
   "metadata": {},
   "source": [
    "<H1>01_Operation</H1>\n",
    "    \r",
    "연산자 : 프로그램을 짤 때 변수나 값의 연산을 위해 사용되는 부호\n",
    "    \n",
    "수학시간 +, -, x, \n",
    "\n",
    "<br>\n",
    "\n",
    "[1] 단항연산자 : 항이 1개인 연산자\n",
    "    \n",
    "ex) 증감연산자\n",
    "\n",
    "<br>\n",
    "\n",
    "[2] 이항연산자 : 항이 2개인 연산자        \n",
    "\n",
    "ex) 대입연산자, 산술연산자, 관계연산자, 논리연산자\n",
    "\n",
    "<br>\n",
    "\r",
    "[3] 삼항연산\n",
    "    \n",
    "ex) 조건연산자"
   ]
  },
  {
   "cell_type": "markdown",
   "id": "3d6c6ec0-0704-4dc5-92c8-ff47fbeb4931",
   "metadata": {},
   "source": [
    "<h1>02_IDOperation</h1>\n",
    "\n",
    "[단항연산자]\n",
    "\n",
    "증가(++), 감소(--) 부호 사용"
   ]
  },
  {
   "cell_type": "code",
   "execution_count": 22,
   "id": "e7ae34a1-d5ff-410c-acce-8b7c1937145d",
   "metadata": {},
   "outputs": [
    {
     "name": "stdout",
     "output_type": "stream",
     "text": [
      "[1] num : 5\n",
      "[2] num++ : 5\n",
      "[3] num : 6\n",
      "\n"
     ]
    }
   ],
   "source": [
    "int num = 5;\n",
    "        System.out.println(\"[1] num : \" + num);\n",
    "        System.out.println(\"[2] num++ : \" + num++);\n",
    "        System.out.println(\"[3] num : \" + num);\n",
    "        System.out.println();"
   ]
  },
  {
   "cell_type": "code",
   "execution_count": 24,
   "id": "38acfeb1-68be-4aba-b317-bcac6aa6d2ca",
   "metadata": {},
   "outputs": [
    {
     "name": "stdout",
     "output_type": "stream",
     "text": [
      "[1] num1 : 10\n",
      "[2] ++num1 : 11\n",
      "[3] num1 : 11\n"
     ]
    }
   ],
   "source": [
    " int num1 = 10;\n",
    "        System.out.println(\"[1] num1 : \" + num1);\n",
    "        System.out.println(\"[2] ++num1 : \" + ++num1);\n",
    "        System.out.println(\"[3] num1 : \" + num1);"
   ]
  },
  {
   "cell_type": "raw",
   "id": "86971313-2f12-4cb2-b6ce-539bf2796eb4",
   "metadata": {},
   "source": [
    "num++ : num이 가지고 있는 값을 연산에 적용한 뒤에 1을 증가(후위 증가 연산자)\n",
    "++num : num이 가지고 있는 값에 1을 증가한 뒤에 연산에 적용(전위 증가 연산자)"
   ]
  },
  {
   "cell_type": "code",
   "execution_count": 26,
   "id": "2b806d42-5802-4ae0-93e5-791da4027196",
   "metadata": {},
   "outputs": [
    {
     "name": "stdout",
     "output_type": "stream",
     "text": [
      "20\n",
      "18\n"
     ]
    }
   ],
   "source": [
    "int num2 = 20;\n",
    "        System.out.println(num2--);\t\n",
    "        System.out.println(--num2);"
   ]
  },
  {
   "cell_type": "markdown",
   "id": "28d4f374-ee24-4e89-aeec-36b7fb3ad54d",
   "metadata": {},
   "source": [
    "<h1>03_ASOperation</h1>\n",
    "\n",
    "[대입연산자(이항연산자)]"
   ]
  },
  {
   "cell_type": "code",
   "execution_count": 38,
   "id": "e29f18eb-8318-4b31-abe4-05edb663fd1b",
   "metadata": {},
   "outputs": [],
   "source": [
    "int age = 20+1;\n",
    "        // 나이를 의미하는 변수 age에 변수값으로 정수형타입 데이터 20을 대입한다.\n",
    "\n",
    "int num = 1;\n",
    "        // 숫자를 의미하는 변수 num에 변수값으로 정수형타입 데이터 1을 대입한다.\n",
    "\n",
    "        // 왼쪽(좌항) => 변수(결과)\n",
    "        // 오른쪽(우항) => (1)변수, (2)상수, (3)식 (계산)\n",
    "        age = num;\n",
    "        age = 30;\n",
    "        age = num + 30;\n",
    "        age = num + num;\n",
    "        age = 30 + 30;"
   ]
  },
  {
   "cell_type": "markdown",
   "id": "9f256a54-c37a-42ef-9a85-dce6fba72617",
   "metadata": {},
   "source": [
    "<h1>04_AROperation</h1>\n",
    "\n",
    "[산술연산자]\n",
    "덧셈(+), 뺄셈(-), 곱셈(*), 나눗셈(/), 나머지(%)\n",
    "\n",
    "-정수형 변수 2개 선언\n",
    "-결과값을 담을 변수 1개 선언"
   ]
  },
  {
   "cell_type": "code",
   "execution_count": 41,
   "id": "2a1c94d9-75b1-4130-8d20-825372e6122a",
   "metadata": {},
   "outputs": [
    {
     "name": "stdout",
     "output_type": "stream",
     "text": [
      "덧셈(+) 결과 : 9\n",
      "뺄셈(-) 결과 : 5\n",
      "곱셈(*) 결과 : 14\n",
      "나눗셈(/) 결과 : 3\n",
      "나머지(%) 결과 : 1\n"
     ]
    }
   ],
   "source": [
    "int num1, num2, result;\n",
    "\n",
    "num1 = 7;\n",
    "num2 = 2;\n",
    "\n",
    "        result = num1 + num2;\n",
    "        System.out.println(\"덧셈(+) 결과 : \" + result);\n",
    "\n",
    "        result = num1 - num2;\n",
    "        System.out.println(\"뺄셈(-) 결과 : \" + result);\n",
    "\n",
    "        result = num1 * num2;\n",
    "        System.out.println(\"곱셈(*) 결과 : \" + result);\n",
    "\n",
    "        result = num1 / num2;\n",
    "        System.out.println(\"나눗셈(/) 결과 : \" + result);\n",
    "\n",
    "        result = num1 % num2;\n",
    "        System.out.println(\"나머지(%) 결과 : \" + result);"
   ]
  },
  {
   "cell_type": "markdown",
   "id": "d86d9d7b-42a5-4a3b-8f53-6b8bd0259fbc",
   "metadata": {},
   "source": [
    "<h1>05_ROperation</h1>\n",
    "    \n",
    "[관계연산자(비교연산자)]\n",
    "\n",
    "-결과는 논리형(boolean)으로 출력된다.\n",
    "         \n",
    "-크다(>), 작다(<), 크거나같다(>=), 작거나같다(<=)\n",
    "    \n",
    "-같다(==), 다르다(!=)"
   ]
  },
  {
   "cell_type": "code",
   "execution_count": 49,
   "id": "9e370aa3-349a-4d58-9470-523c3d7c7bcf",
   "metadata": {},
   "outputs": [
    {
     "name": "stdout",
     "output_type": "stream",
     "text": [
      "크다(>)의 결과 : true\n",
      "작다(<)의 결과 : false\n",
      "크거나같다(>=)의 결과 : true\n",
      "작거나같다(<=)의 결과 : false\n",
      "같다(==)의 결과 : false\n",
      "다르다(!=)의 결과 : true\n"
     ]
    }
   ],
   "source": [
    "int num1 = 7;\n",
    "int num2 = 2;\n",
    "boolean result;\n",
    "\n",
    "result = num1 > num2;\n",
    "System.out.println(\"크다(>)의 결과 : \" + result);\n",
    "\n",
    "result = num1 < num2;\n",
    "System.out.println(\"작다(<)의 결과 : \" + result);\n",
    "\n",
    "result = num1 >= num2;\n",
    "System.out.println(\"크거나같다(>=)의 결과 : \" + result);\n",
    "\n",
    "result = num1 <= num2;\n",
    "System.out.println(\"작거나같다(<=)의 결과 : \" + result);\n",
    "\n",
    "result = num1 == num2;\n",
    "System.out.println(\"같다(==)의 결과 : \" + result);\n",
    "\n",
    "result = num1 != num2;\n",
    "System.out.println(\"다르다(!=)의 결과 : \" + result);"
   ]
  },
  {
   "cell_type": "markdown",
   "id": "00f69fd5-5132-436b-9606-a615d8ff9923",
   "metadata": {},
   "source": [
    "<h1>06_LOperation</h1>\n",
    "\n",
    "[논리연산자]\n",
    "\n",
    "-결과값은 논리형(boolean)타입으로 출력된다.\n",
    "\n",
    "-(1) AND연산, (2)OR연산, (3)NOT연산"
   ]
  },
  {
   "cell_type": "raw",
   "id": "9e09d7e3-6dca-4881-81c8-64efbca1a733",
   "metadata": {},
   "source": [
    "(1) AND연산 : &&\n",
    "조건A && 조건B 일때\n",
    "조건A와 조건B가 모두 참(true)일 경우에만 결과가 true\n",
    "둘중 하나라도 false(거짓)가 있으면 결과는 false\n",
    "대표적인 예로 로그인이 있다."
   ]
  },
  {
   "cell_type": "code",
   "execution_count": 57,
   "id": "f5da52f5-3ec9-4470-b3ab-7a17030c1ccc",
   "metadata": {},
   "outputs": [
    {
     "name": "stdout",
     "output_type": "stream",
     "text": [
      "아이디일치 && 비밀번호일치 결과 : true\n",
      "아이디일치 && 비밀번호불일치 결과 : false\n",
      "아이디불일치 && 비밀번호일치 결과 : false\n",
      "아이디불일치 && 비밀번호불일치 결과 : false\n"
     ]
    }
   ],
   "source": [
    "boolean result;\n",
    "\n",
    "result = true && true;\n",
    "System.out.println(\"아이디일치 && 비밀번호일치 결과 : \" + result);\n",
    "\n",
    "result = true && false;\n",
    "System.out.println(\"아이디일치 && 비밀번호불일치 결과 : \" + result);\n",
    "\n",
    "result = false && true;\n",
    "System.out.println(\"아이디불일치 && 비밀번호일치 결과 : \" + result);\n",
    "\n",
    "result = false && false;\n",
    "System.out.println(\"아이디불일치 && 비밀번호불일치 결과 : \" + result);"
   ]
  },
  {
   "cell_type": "raw",
   "id": "8299a059-44bf-4f58-843f-e465a808bfb4",
   "metadata": {},
   "source": [
    "(2) OR연산자 :\n",
    "조건A(제목) || 조건B(내용) 일때\n",
    "둘중 하나라도 true(참)가 있으면 결과는 true\n",
    "조건A와 조건B가 모두 거짓(false)일 경우에만 결과가 false\n",
    "대표적인 예로 게시판 검색이 있다.\n",
    "\n",
    "ex)\n",
    "'방석' 제목+내용 검색\n",
    "(1) 편안한 쿠션(false) || 쿠션, 방석 필요한 분(true) => 출력(true)\n",
    "(2) 푹신한 방석(true)  || 편안합니다(false) => 출력(true)\n",
    "(3) 종범이 방석(true)  || 방석 사세요(true) => 출력(true)\n",
    "(4) 보겸이 쿠션(false) || 쿠션 좋아요(false) => 출력x(false)"
   ]
  },
  {
   "cell_type": "code",
   "execution_count": 59,
   "id": "8ece944a-a12e-468a-bd66-f50dfd3774a3",
   "metadata": {},
   "outputs": [
    {
     "name": "stdout",
     "output_type": "stream",
     "text": [
      "true || true 결과 : true\n",
      "true || false 결과 : true\n",
      "false || true 결과 : true\n",
      "false || false 결과 : false\n"
     ]
    }
   ],
   "source": [
    "boolean result;\n",
    "\n",
    "result = true || true;\n",
    "System.out.println(\"true || true 결과 : \" + result);\n",
    "\n",
    "result = true || false;\n",
    "System.out.println(\"true || false 결과 : \" + result);\n",
    "\n",
    "result = false || true;\n",
    "System.out.println(\"false || true 결과 : \" + result);\n",
    "\n",
    "result = false || false;\n",
    "System.out.println(\"false || false 결과 : \" + result);"
   ]
  },
  {
   "cell_type": "raw",
   "id": "e035b632-5b88-431a-bb57-e199da58f5a5",
   "metadata": {},
   "source": [
    "(3) NOT연산 : !\n",
    "boolean타입의 데이터 앞에 사용하면 true는 false로, false는 true로 바뀐다."
   ]
  },
  {
   "cell_type": "code",
   "execution_count": 61,
   "id": "4882cf34-7f5a-438e-bf37-ec4d464a9e23",
   "metadata": {},
   "outputs": [
    {
     "name": "stdout",
     "output_type": "stream",
     "text": [
      "!false 결과 : true\n",
      "!true 결과 : false\n"
     ]
    }
   ],
   "source": [
    "System.out.println(\"!false 결과 : \" + !false);\n",
    "System.out.println(\"!true 결과 : \" + !true);"
   ]
  },
  {
   "cell_type": "markdown",
   "id": "b1f35c57-0f07-4411-99a9-33dba1157858",
   "metadata": {},
   "source": [
    "<h1>07_COperation</h1>\n",
    "\n",
    "삼항(조건)연산자 : 항이 3개인 연산자\n",
    "\r",
    " 변수 = (조건식) ? 참일때 값 : 거짓일때 값;"
   ]
  },
  {
   "cell_type": "code",
   "execution_count": 65,
   "id": "16a924ac-31a7-4a90-80c4-e413149264dc",
   "metadata": {},
   "outputs": [
    {
     "name": "stdout",
     "output_type": "stream",
     "text": [
      "resultChar : O\n",
      "resultInt : 2\n",
      "resultStr : 거짓일경우\n",
      "resultStr11 : 거짓일경우\n"
     ]
    }
   ],
   "source": [
    "int num1 = 7;\n",
    "int num2 = 2;\n",
    "\n",
    "char resultChar = (num1 > num2) ? 'O' : 'X';\n",
    "System.out.println(\"resultChar : \" + resultChar);\n",
    "\n",
    "int resultInt =  (num1 < num2) ? 7 : 2;\n",
    "System.out.println(\"resultInt : \" + resultInt);\n",
    "\n",
    "String resultStr = (num1 < num2) ? \"참일경우\" : \"거짓일경우\";\n",
    "System.out.println(\"resultStr : \" + resultStr);\n",
    "\n",
    "if(num1 < num2){\n",
    "    resultStr = \"참일경우\";\n",
    "} else {\n",
    "    resultStr = \"거짓일경우\";\n",
    "}\n",
    "System.out.println(\"resultStr11 : \" + resultStr);"
   ]
  },
  {
   "cell_type": "raw",
   "id": "93f1159f-42ad-491f-8940-2c0f8ed66d2a",
   "metadata": {},
   "source": [
    "Q. 조건연산자를 사용해서 해당 숫자가 짝수인 경우에는 true 홀수인 경우에는 false를 출력하는 조건연산자를 작성하시오."
   ]
  },
  {
   "cell_type": "code",
   "execution_count": 69,
   "id": "0e33a4c5-b403-47a0-bd27-1351790825b7",
   "metadata": {},
   "outputs": [
    {
     "name": "stdout",
     "output_type": "stream",
     "text": [
      "resultEven : true\n",
      "resultEven1 : true\n"
     ]
    }
   ],
   "source": [
    "int num = 12;\n",
    "boolean resultEven;\n",
    "\n",
    "resultEven = (num % 2 == 0) ? true : false;\n",
    "System.out.println(\"resultEven : \" + resultEven);\n",
    "\n",
    "resultEven = (num % 2 != 1) ? true : false;\n",
    "System.out.println(\"resultEven1 : \" + resultEven);\n",
    "\n",
    "//num이 짝수일때\n",
    "// num을 2로 나눴을때 나머지가 0인 경우\n",
    "// num을 2로 나눴을때 나머지가 1이 아닌 경우"
   ]
  },
  {
   "cell_type": "markdown",
   "id": "7a155920-f853-429c-9a0b-8c24b4aa4541",
   "metadata": {},
   "source": [
    "<h1>08_Scanner</h1>\n",
    "\n",
    "-System.out.println(\"출력\")\n",
    "\n",
    "-마우스 올려서 import class 클릭\n",
    "\r",
    "-[Alt] + [Enter]\n",
    "\n",
    "-입력을 위한 Scanner 객체 sc 생성\n",
    "\n",
    "Scanner sc = new Scanner(System.in);\n",
    "\n",
    "import java.util.Scanner;"
   ]
  },
  {
   "cell_type": "code",
   "execution_count": 76,
   "id": "67a045cd-99ff-4761-af74-1c964cc6cbf7",
   "metadata": {},
   "outputs": [
    {
     "name": "stdout",
     "output_type": "stream",
     "text": [
      "이름을 입력해주세요 >> "
     ]
    },
    {
     "name": "stdin",
     "output_type": "stream",
     "text": [
      " Sarah\n"
     ]
    },
    {
     "name": "stdout",
     "output_type": "stream",
     "text": [
      "나이를 입력해주세요 >> "
     ]
    },
    {
     "name": "stdin",
     "output_type": "stream",
     "text": [
      " 30\n"
     ]
    },
    {
     "name": "stdout",
     "output_type": "stream",
     "text": [
      "주소를 입력해주세요 >> "
     ]
    },
    {
     "name": "stdin",
     "output_type": "stream",
     "text": [
      " Incheon, Korea\n"
     ]
    },
    {
     "name": "stdout",
     "output_type": "stream",
     "text": [
      "\n",
      " === 내정보 === \n",
      " 이름 : Sarah\n",
      " 나이 : 30\n",
      " 주소 : Incheon, Korea\n"
     ]
    }
   ],
   "source": [
    "import java.util.Scanner;\n",
    "\n",
    "Scanner sc = new Scanner(System.in);\n",
    "\n",
    "String name;\n",
    "int age;\n",
    "String addr;\n",
    "\n",
    "System.out.print(\"이름을 입력해주세요 >> \");\n",
    "name = sc.next();\n",
    "\n",
    "System.out.print(\"나이를 입력해주세요 >> \");\n",
    "age = sc.nextInt();\n",
    "\n",
    "sc.nextLine().trim();   // trim() : 공백 제거\n",
    "System.out.print(\"주소를 입력해주세요 >> \");\n",
    "addr = sc.nextLine();\n",
    "\n",
    "System.out.println();\n",
    "System.out.println(\" === 내정보 === \");\n",
    "System.out.println(\" 이름 : \" + name);\n",
    "System.out.println(\" 나이 : \" + age);\n",
    "System.out.println(\" 주소 : \" + addr);\n",
    "\n",
    "sc.close();"
   ]
  },
  {
   "cell_type": "markdown",
   "id": "57dbb993-1379-4fe1-b4df-c87133906a55",
   "metadata": {},
   "source": [
    "<h1>09_Calculator</h1>"
   ]
  },
  {
   "cell_type": "code",
   "execution_count": 80,
   "id": "1d316de5-b164-43c3-aee4-41ca04c34818",
   "metadata": {},
   "outputs": [
    {
     "name": "stdout",
     "output_type": "stream",
     "text": [
      "첫번째 숫자 >> "
     ]
    },
    {
     "name": "stdin",
     "output_type": "stream",
     "text": [
      " 10\n"
     ]
    },
    {
     "name": "stdout",
     "output_type": "stream",
     "text": [
      "두번째 숫자 >> "
     ]
    },
    {
     "name": "stdin",
     "output_type": "stream",
     "text": [
      " 20\n"
     ]
    },
    {
     "name": "stdout",
     "output_type": "stream",
     "text": [
      "덧셈 결과 : 30\n",
      "뺄셈 결과 : -10\n",
      "곱셈 결과 : 200\n",
      "num2 : 20\n",
      "나눗셈 결과 : 0\n",
      "나머지 결과 : 10\n"
     ]
    }
   ],
   "source": [
    "import java.util.Scanner;\n",
    "\n",
    "Scanner sc = new Scanner(System.in);\n",
    "\n",
    "// 입력받을 두개의 정수 num1, num2\n",
    "// 결과를 담을 변수 result\n",
    "int num1, num2, result;\n",
    "\n",
    "System.out.print(\"첫번째 숫자 >> \");\n",
    "num1 = sc.nextInt();\n",
    "\n",
    "System.out.print(\"두번째 숫자 >> \");\n",
    "num2 = sc.nextInt();\n",
    "\n",
    "// 덧셈, 뺄셈, 곱셈, 나눗셈, 나머지\n",
    "result = num1 + num2;\n",
    "System.out.println(\"덧셈 결과 : \" + result);\n",
    "\n",
    "result = num1 - num2;\n",
    "System.out.println(\"뺄셈 결과 : \" + result);\n",
    "\n",
    "result = num1 * num2;\n",
    "System.out.println(\"곱셈 결과 : \" + result);\n",
    "\n",
    "// 2번째 입력한 숫자(num2)가 0일때\n",
    "// 0대신 1로 바꿔서 계산한다.\n",
    "\n",
    "// 삼항연산자\n",
    "// 변수 = (조건식) ? 참 : 거짓;\n",
    "//num2 = (num2 != 0) ? num2 : 1;\n",
    "\n",
    "// num2에 값이 0일 경우(num2 == 0) 1을 대입한다\n",
    "// num2가 0이 아닐 경우 num2값 그대로 가져간다.\n",
    "\n",
    "num2 = (num2 == 0) ? 1 : num2;\n",
    "\n",
    "System.out.println(\"num2 : \" + num2);\n",
    "\n",
    "result = num1 / num2;\n",
    "System.out.println(\"나눗셈 결과 : \" + result);\n",
    "\n",
    "result = num1 % num2;\n",
    "System.out.println(\"나머지 결과 : \" + result);"
   ]
  },
  {
   "cell_type": "raw",
   "id": "4e1850d3-fbe2-43c7-b47e-40186610dd7f",
   "metadata": {},
   "source": [
    "Q. 두 정수를 입력받아서 두 수의 합이 짝수인지 홀수인지 출력하시오."
   ]
  },
  {
   "cell_type": "code",
   "execution_count": 94,
   "id": "62134bb8-fbac-4ba5-9812-9425afe405d0",
   "metadata": {},
   "outputs": [
    {
     "name": "stdout",
     "output_type": "stream",
     "text": [
      "첫번째 숫자 >> "
     ]
    },
    {
     "name": "stdin",
     "output_type": "stream",
     "text": [
      " 15\n"
     ]
    },
    {
     "name": "stdout",
     "output_type": "stream",
     "text": [
      "두번째 숫자 >> "
     ]
    },
    {
     "name": "stdin",
     "output_type": "stream",
     "text": [
      " 24\n"
     ]
    },
    {
     "name": "stdout",
     "output_type": "stream",
     "text": [
      "0.625\n",
      "두 수의 합은 39.0이고, 홀수 입니다.\n"
     ]
    }
   ],
   "source": [
    "import java.util.Scanner;\n",
    "\n",
    "Scanner sc = new Scanner(System.in);\n",
    "\n",
    "System.out.print(\"첫번째 숫자 >> \");\n",
    "double num1 = sc.nextInt();\n",
    "\n",
    "System.out.print(\"두번째 숫자 >> \");\n",
    "double num2 = sc.nextInt();\n",
    "\n",
    "System.out.println(num1/num2);\n",
    "\n",
    "double sum = num1 + num2;\n",
    "String result = (sum % 2 == 0) ? \"짝수\" : \"홀수\";\n",
    "System.out.println(\"두 수의 합은 \" + sum + \"이고, \" + result + \" 입니다.\");\n",
    "\n",
    "// sc.next() : 단어를 입력받을때 사용\n",
    "\n",
    "// sc.nextInt() : 숫자(정수형)를 입력받을때 사용\n",
    "\n",
    "// sc.nextLine() : 한 문장을 입력받을때 사용\n",
    "// 입력받기 전에 sc.nextLine() 혹은 sc.nextLine().trim()을 작성해준다.\n",
    "\n",
    "// 숫자(실수형)를 입력받을때 사용 : sc.nextDouble(), sc.nextFloat()\n",
    "\n",
    "sc.close(); // 생략해도 문제 없지만 입력이 모두 끝날때 사용하면 메모리를 절약할 수 있다."
   ]
  }
 ],
 "metadata": {
  "kernelspec": {
   "display_name": "Java",
   "language": "java",
   "name": "java"
  },
  "language_info": {
   "codemirror_mode": "java",
   "file_extension": ".jshell",
   "mimetype": "text/x-java-source",
   "name": "Java",
   "pygments_lexer": "java",
   "version": "11.0.24+7-LTS-271"
  }
 },
 "nbformat": 4,
 "nbformat_minor": 5
}
