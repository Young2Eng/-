{
 "cells": [
  {
   "cell_type": "markdown",
   "id": "0d6dae6f-12ca-481f-9144-eb3effc8a8f7",
   "metadata": {},
   "source": [
    "<h1>loopFor</h1>"
   ]
  },
  {
   "cell_type": "raw",
   "id": "97cc2f0e-825c-493c-bcab-f777a45279bf",
   "metadata": {},
   "source": [
    "[ for문 기본구조 ]\n",
    "\n",
    "for( 초기식;  조건식;  증감식  ) {        \n",
    "      반복할 수행    \n",
    "}\n",
    "  \n",
    "① 초기식 : 반복문 실행할           \n",
    "② 조건식 : 초기식에서 주               \n",
    "      true(참)일                \n",
    "      false(거짓)일\n",
    "③ 수행문 : 반복\n",
    "④ 증감식 : 초기식에서 선언한 값을 .\n",
    "⑤ 종료 : for(){ } 문을 빠져나와서 반복문을 종료한다."
   ]
  },
  {
   "cell_type": "markdown",
   "id": "924d68ce-b3de-493f-bdd2-fd8c9062ebc7",
   "metadata": {},
   "source": [
    "Q 안녕하세여 10번 출력!"
   ]
  },
  {
   "cell_type": "code",
   "execution_count": 8,
   "id": "629512c8-99fe-458a-9a7e-caec9eff25ba",
   "metadata": {},
   "outputs": [
    {
     "name": "stdout",
     "output_type": "stream",
     "text": [
      "1. 안녕하세요\n",
      "2. 안녕하세요\n",
      "3. 안녕하세요\n",
      "4. 안녕하세요\n",
      "5. 안녕하세요\n",
      "6. 안녕하세요\n",
      "7. 안녕하세요\n",
      "8. 안녕하세요\n",
      "9. 안녕하세요\n",
      "10. 안녕하세요\n"
     ]
    }
   ],
   "source": [
    "for(int i=1; i<=10; i++){\n",
    "    System.out.println(i + \". 안녕하세요\");\n",
    "}"
   ]
  },
  {
   "cell_type": "raw",
   "id": "0b7dca50-7b97-49e4-8495-10f7d05aff88",
   "metadata": {},
   "source": [
    "// 반복문 종료 후 i값은 얼마? 11?\n",
    "// System.out.println(i);\n",
    "// for문에서 선언한 변수는 for문 안에서만 사용할 수 있다."
   ]
  },
  {
   "cell_type": "markdown",
   "id": "38fd472a-7034-4beb-93c2-6f63d0f0715b",
   "metadata": {},
   "source": [
    "Q. 1부터 10까지의 합! => 55 (hint) 1부터 10까지 출력에서 시작~~\n",
    "\n",
    "합을 구하기 위한 변수 sum 선언"
   ]
  },
  {
   "cell_type": "code",
   "execution_count": 14,
   "id": "571357bd-4325-4975-93c7-b4393bea13b2",
   "metadata": {},
   "outputs": [
    {
     "name": "stdout",
     "output_type": "stream",
     "text": [
      "55\n"
     ]
    }
   ],
   "source": [
    "int sum = 0;\n",
    "\n",
    "for(int i=1; i<=10; i++){\n",
    "    // sum = sum + i;\n",
    "    sum += i;\n",
    "    // System.out.println(\"i : \" + i + \", sum : \" + sum);\n",
    "}\n",
    "\n",
    "System.out.println(sum);"
   ]
  },
  {
   "cell_type": "markdown",
   "id": "fdd7091f-8709-4291-81b7-b38b7af3ed1e",
   "metadata": {},
   "source": [
    "<h1>반복문 for문 exam</h1>"
   ]
  },
  {
   "cell_type": "markdown",
   "id": "e993eb10-141d-4072-b92f-d06473492475",
   "metadata": {},
   "source": [
    "Q. 첫번째 입력한 숫자 sNum부터 두번째 입력한 숫자 eNum까의 합을 구하여라\n",
    "\n",
    "ex) 2와 5를 입력했을 경우 : 2 + 3 + 4 + 5 = 14\n",
    "\n",
    "(1) 14 구하기\n",
    "\n",
    "(2) \"2 + 3 + 4 + 5 = 14\" 를 출력\""
   ]
  },
  {
   "cell_type": "code",
   "execution_count": 22,
   "id": "54352244-58e6-4d0c-b32b-a425280d71d0",
   "metadata": {},
   "outputs": [
    {
     "name": "stdout",
     "output_type": "stream",
     "text": [
      "첫번째 숫자 >> "
     ]
    },
    {
     "name": "stdin",
     "output_type": "stream",
     "text": [
      " 1\n"
     ]
    },
    {
     "name": "stdout",
     "output_type": "stream",
     "text": [
      "두번째 숫자 >> "
     ]
    },
    {
     "name": "stdin",
     "output_type": "stream",
     "text": [
      " 13\n"
     ]
    },
    {
     "name": "stdout",
     "output_type": "stream",
     "text": [
      "1 + 2 + 3 + 4 + 5 + 6 + 7 + 8 + 9 + 10 + 11 + 12 + 13 = 91\n"
     ]
    }
   ],
   "source": [
    "import java.util.Scanner;\n",
    "\n",
    "int sum = 0;\n",
    "\n",
    "Scanner sc = new Scanner(System.in);\n",
    "\n",
    "System.out.print(\"첫번째 숫자 >> \");\n",
    "int sNum = sc.nextInt();\n",
    "\n",
    "System.out.print(\"두번째 숫자 >> \");\n",
    "int eNum = sc.nextInt();\n",
    "\n",
    "for(int i=sNum; i<=eNum; i++){\n",
    "    sum += i;\n",
    "    System.out.print(i + (i<eNum ? \" + \" : \" = \"));\n",
    "}\n",
    "\n",
    "System.out.println(sum);"
   ]
  },
  {
   "cell_type": "markdown",
   "id": "0ebba355-1fdc-4eab-b800-af94c54f8efa",
   "metadata": {},
   "source": [
    "<h1>continue문</h1>\n",
    "\n",
    "-continue문 → 반복문에서 사용\n",
    "\n",
    "-반복문 안에서 continue문을 만나면 이후 문장을 실행하지 않고 for문의 증감식으로 이동"
   ]
  },
  {
   "cell_type": "code",
   "execution_count": 35,
   "id": "e3cbe03f-3f35-4ec3-b2ce-53424ad72b6d",
   "metadata": {},
   "outputs": [],
   "source": [
    "//문법\n",
    "\n",
    "for(int i=1; i<=10; i++){\n",
    "    // 짝수일때 continue\n",
    "    // 짝수 : 2로 나눴을때 나머지가 0인 수\n",
    "    if(i % 2 == 0){\n",
    "    continue;\n",
    "}\n",
    "    //System.out.println(i);\n",
    "}"
   ]
  },
  {
   "cell_type": "markdown",
   "id": "7c308afd-5dc2-4f95-a9ed-c7a946ded031",
   "metadata": {},
   "source": [
    "Q. 1부터 10사이 짝수의 합을 구하시오. (continue문 사용)"
   ]
  },
  {
   "cell_type": "code",
   "execution_count": 42,
   "id": "d569648c-5126-410e-aa23-44ccd0074c02",
   "metadata": {},
   "outputs": [
    {
     "name": "stdout",
     "output_type": "stream",
     "text": [
      "30\n"
     ]
    }
   ],
   "source": [
    "int sum = 0;\n",
    "\n",
    "for(int i=1; i<=10; i++){\n",
    "    // 나머지가 1일 경우 홀수\n",
    "    if(i%2 == 1){\n",
    "    continue;\n",
    "    }\n",
    "\n",
    "    sum += i;\n",
    "\n",
    "}\n",
    "System.out.println(sum);"
   ]
  },
  {
   "cell_type": "markdown",
   "id": "55d8e8e4-0505-41a5-8737-fec4e50477b5",
   "metadata": {},
   "source": [
    "<h1>중첩 for문</h1>\n",
    "\n",
    "[ 중첩 for문 기본구조]\n",
    "\n",
    " for( 초기식;  조건식;  증감식  ) {\n",
    " \n",
    "     작성한내용1\n",
    "     \n",
    "     for( 초기식;  조건식;  증감식  ) {\n",
    "     \n",
    "         반복할 수행문;\n",
    "\n",
    "         }\n",
    "\n",
    "          작성한내용2\n",
    "\n",
    "        }"
   ]
  },
  {
   "cell_type": "code",
   "execution_count": 79,
   "id": "2f10d734-d272-4eb3-be80-a13e09b382c2",
   "metadata": {},
   "outputs": [
    {
     "name": "stdout",
     "output_type": "stream",
     "text": [
      "=================================\n",
      "i : 1, j : 1\n",
      "i : 1, j : 2\n",
      "i : 1, j : 3\n",
      "-----------------------------\n",
      "=================================\n",
      "i : 2, j : 1\n",
      "i : 2, j : 2\n",
      "i : 2, j : 3\n",
      "-----------------------------\n",
      "=================================\n",
      "i : 3, j : 1\n",
      "i : 3, j : 2\n",
      "i : 3, j : 3\n",
      "-----------------------------\n"
     ]
    }
   ],
   "source": [
    "for(int i=1; i<=3; i++){\n",
    "\n",
    "System.out.println(\"=================================\");\n",
    "\n",
    "    for(int j=1; j<=3; j++){\n",
    "\n",
    "        System.out.println(\"i : \" + i + \", j : \" + j);\n",
    "    }\n",
    "System.out.println(\"-----------------------------\");\n",
    "}"
   ]
  },
  {
   "cell_type": "markdown",
   "id": "6f8268e8-7a9b-45f3-b90f-d27ed4b8787f",
   "metadata": {},
   "source": [
    "<h1>TimesTable</h1>"
   ]
  },
  {
   "cell_type": "code",
   "execution_count": 82,
   "id": "f198097d-0ccd-43f7-bc43-f33768adfa80",
   "metadata": {},
   "outputs": [
    {
     "name": "stdout",
     "output_type": "stream",
     "text": [
      "=== 2단 ===\n",
      "2 x 1 = 2\n",
      "2 x 2 = 4\n",
      "2 x 3 = 6\n",
      "2 x 4 = 8\n",
      "2 x 5 = 10\n",
      "2 x 6 = 12\n",
      "2 x 7 = 14\n",
      "2 x 8 = 16\n",
      "2 x 9 = 18\n",
      "\n",
      "=== 3단 ===\n",
      "3 x 1 = 3\n",
      "3 x 2 = 6\n",
      "3 x 3 = 9\n",
      "3 x 4 = 12\n",
      "3 x 5 = 15\n",
      "3 x 6 = 18\n",
      "3 x 7 = 21\n",
      "3 x 8 = 24\n",
      "3 x 9 = 27\n",
      "\n",
      "=== 4단 ===\n",
      "4 x 1 = 4\n",
      "4 x 2 = 8\n",
      "4 x 3 = 12\n",
      "4 x 4 = 16\n",
      "4 x 5 = 20\n",
      "4 x 6 = 24\n",
      "4 x 7 = 28\n",
      "4 x 8 = 32\n",
      "4 x 9 = 36\n",
      "\n",
      "=== 5단 ===\n",
      "5 x 1 = 5\n",
      "5 x 2 = 10\n",
      "5 x 3 = 15\n",
      "5 x 4 = 20\n",
      "5 x 5 = 25\n",
      "5 x 6 = 30\n",
      "5 x 7 = 35\n",
      "5 x 8 = 40\n",
      "5 x 9 = 45\n",
      "\n",
      "=== 6단 ===\n",
      "6 x 1 = 6\n",
      "6 x 2 = 12\n",
      "6 x 3 = 18\n",
      "6 x 4 = 24\n",
      "6 x 5 = 30\n",
      "6 x 6 = 36\n",
      "6 x 7 = 42\n",
      "6 x 8 = 48\n",
      "6 x 9 = 54\n",
      "\n",
      "=== 7단 ===\n",
      "7 x 1 = 7\n",
      "7 x 2 = 14\n",
      "7 x 3 = 21\n",
      "7 x 4 = 28\n",
      "7 x 5 = 35\n",
      "7 x 6 = 42\n",
      "7 x 7 = 49\n",
      "7 x 8 = 56\n",
      "7 x 9 = 63\n",
      "\n",
      "=== 8단 ===\n",
      "8 x 1 = 8\n",
      "8 x 2 = 16\n",
      "8 x 3 = 24\n",
      "8 x 4 = 32\n",
      "8 x 5 = 40\n",
      "8 x 6 = 48\n",
      "8 x 7 = 56\n",
      "8 x 8 = 64\n",
      "8 x 9 = 72\n",
      "\n",
      "=== 9단 ===\n",
      "9 x 1 = 9\n",
      "9 x 2 = 18\n",
      "9 x 3 = 27\n",
      "9 x 4 = 36\n",
      "9 x 5 = 45\n",
      "9 x 6 = 54\n",
      "9 x 7 = 63\n",
      "9 x 8 = 72\n",
      "9 x 9 = 81\n",
      "\n"
     ]
    }
   ],
   "source": [
    "for(int i=2; i<=9; i++){\n",
    "\n",
    "    System.out.println(\"=== \" + i + \"단 ===\");\n",
    "\n",
    "    for(int j=1; j<=9; j++){\n",
    "    \n",
    "        System.out.println(i + \" x \" + j + \" = \" + (i*j));\n",
    "\n",
    "      }\n",
    "\n",
    "    System.out.println();\n",
    "     \n",
    "}"
   ]
  },
  {
   "cell_type": "markdown",
   "id": "6958e90a-4692-45a3-8cec-8ade4ee76b6a",
   "metadata": {},
   "source": [
    "<h1>별찍기 문제</h1>"
   ]
  },
  {
   "cell_type": "markdown",
   "id": "dc6120c5-035e-465c-948c-1564a35a3296",
   "metadata": {},
   "source": [
    "Q. 중첩 for문을 사용해서\r\n",
    "\r\n",
    "        *\r\n",
    "        **\r\n",
    "        ***\r\n",
    "        ****\r\n",
    "        *****\r\n",
    "\r\n",
    "        와 같은 모양을 출력하시오.\r\n",
    "        (hint)\r\n",
    "        i : 행\r\n",
    "        j : 별갯수\r\n",
    "        i와 j의 관계를 먼저 찾기!\r\n"
   ]
  },
  {
   "cell_type": "code",
   "execution_count": 94,
   "id": "bb08e1d2-eb07-47e7-8d69-579bbabeca9e",
   "metadata": {},
   "outputs": [
    {
     "name": "stdout",
     "output_type": "stream",
     "text": [
      "*\n",
      "**\n",
      "***\n",
      "****\n",
      "*****\n"
     ]
    }
   ],
   "source": [
    "for(int i=1; i<=5; i++){\n",
    "    \n",
    "    for(int j=1; j<=i; j++){\n",
    "        System.out.print(\"*\");\n",
    "    }\n",
    "\n",
    "    System.out.println();\n",
    "}"
   ]
  },
  {
   "cell_type": "code",
   "execution_count": 88,
   "id": "5b417830-4084-412a-9a5f-af601a57c3dd",
   "metadata": {},
   "outputs": [
    {
     "name": "stdout",
     "output_type": "stream",
     "text": [
      "*****\n",
      "****\n",
      "***\n",
      "**\n",
      "*\n"
     ]
    }
   ],
   "source": [
    "for(int i=1; i<=5; i++){\n",
    "\n",
    "    for(int j=1; j<=6-i; j++){\n",
    "        System.out.print(\"*\");\n",
    "    }\n",
    "\n",
    "    System.out.println();\n",
    "}"
   ]
  },
  {
   "cell_type": "markdown",
   "id": "4bcd103e-b754-4349-b5c4-f89d7826fbf9",
   "metadata": {},
   "source": [
    "        *****               i : 1       j : 5\r\n",
    "        ****                i : 2       j : 4\r\n",
    "        ***                 i : 3       j : 3\r\n",
    "        **                  i : 4       j : 2\r\n",
    "        *                   i : 5       j : 1\r\n",
    "\r\n",
    "        i-j 관계 : j를 기준으로 j = 6-i"
   ]
  },
  {
   "cell_type": "code",
   "execution_count": 96,
   "id": "88f38ba3-7a39-40bb-b336-9455ffc1dbfa",
   "metadata": {},
   "outputs": [
    {
     "name": "stdout",
     "output_type": "stream",
     "text": [
      "*****\n",
      "****\n",
      "***\n",
      "**\n",
      "*\n"
     ]
    }
   ],
   "source": [
    "for(int i=5; i>=1; i--){\n",
    "\n",
    "    for(int j=1; j<=i; j++){\n",
    "        System.out.print(\"*\");\n",
    "    }\n",
    "\n",
    "    System.out.println();\n",
    "}"
   ]
  },
  {
   "cell_type": "markdown",
   "id": "6bd08f38-29fc-4fc6-833f-f010ede7e3f8",
   "metadata": {},
   "source": [
    "<h1>반복문2 while문</h1>\n",
    "\n",
    "        [ while문 기본구조 ]\r\n",
    "\r\n",
    "            초기식;\r\n",
    "\r\n",
    "            while(조건식){\r\n",
    "                실행문;\r\n",
    "                증감식;\r\n",
    "            }\r\n",
    "             반복문 종료"
   ]
  },
  {
   "cell_type": "raw",
   "id": "78966a98-dd15-4d86-bd00-f74a98de54eb",
   "metadata": {},
   "source": [
    "Q. while문을 사용해서 1부터 10까지 더하는 반복문을 작성하시오."
   ]
  },
  {
   "cell_type": "code",
   "execution_count": 109,
   "id": "cc8fcc05-bbfa-45db-a864-e2dcf93ab9fa",
   "metadata": {},
   "outputs": [
    {
     "name": "stdout",
     "output_type": "stream",
     "text": [
      "55\n"
     ]
    }
   ],
   "source": [
    "int sum = 0;\n",
    "\n",
    "//        for(int i=1; i<=10; i++){\n",
    "//            sum += i;\n",
    "//        }\n",
    "\n",
    "        int i=1;\n",
    "        boolean run = true;\n",
    "        while(run){\n",
    "            sum += i;\n",
    "            if(sum == 55){\n",
    "                run = false;\n",
    "            }\n",
    "        }\n",
    "\n",
    "        System.out.println(sum);"
   ]
  },
  {
   "cell_type": "raw",
   "id": "f44d5b35-1f18-4d81-a4bb-8a50a9e26e98",
   "metadata": {},
   "source": [
    "<비교>\n",
    "\n",
    "for 문: 반복 횟수가 정해져 있거나 인덱스 기반의 반복이 필요한 경우에 적합.\n",
    "\n",
    "while 문: 반복 조건이 동적이거나 반복 횟수를 미리 알 수 없을 때에 적합.\n",
    "\n",
    "for 문은 반복 횟수를 정확히 알고 있을 때 유용하며, while 문은 반복의 종료 조건이 동적일 때 적합.\n",
    "\n",
    "if 문: 복잡한 조건이나 범위 기반 검사를 수행\n",
    "\n",
    "switch 문(단순값 비교): 특정 변수의 값이 여러 가지 경우 중 하나와 일치하는지 검사."
   ]
  },
  {
   "cell_type": "markdown",
   "id": "2b248849-6fb9-4265-8bbd-38f00bd6fa5b",
   "metadata": {},
   "source": [
    "<h1>while문과 random함수를 통한 예제</h1>"
   ]
  },
  {
   "cell_type": "markdown",
   "id": "a614410d-a6c2-42be-829c-7ad8e2bbbc00",
   "metadata": {},
   "source": [
    "랜덤메소드 : 특정 범위내에서 숫자 하나를 출력해주는 메소드\n",
    "\n",
    "Math.random() : 0보다 크거나 같고, 1보다 작은 숫자를 무작위 발생"
   ]
  },
  {
   "cell_type": "code",
   "execution_count": 129,
   "id": "2cdb1106-8a18-4498-b581-18eecc4dec07",
   "metadata": {},
   "outputs": [
    {
     "name": "stdout",
     "output_type": "stream",
     "text": [
      "이번주 로또 번호\n",
      "45\n",
      "27\n",
      "23\n",
      "39\n",
      "6\n",
      "11\n"
     ]
    }
   ],
   "source": [
    "double ranNum = Math.random();\n",
    "// System.out.println(ranNum);\n",
    "\n",
    "int ranInt = (int)(Math.random() * 10) + 1;\n",
    "// (int)(Math.random() * N) + S;\n",
    "// S부터 N까지 무작위 숫자\n",
    "// System.out.println(ranInt);\n",
    "\n",
    "int n1, n2, n3, n4, n5, n6;\n",
    "n1 = (int)(Math.random() * 45) + 1;\n",
    "n2 = (int)(Math.random() * 45) + 1;\n",
    "n3 = (int)(Math.random() * 45) + 1;\n",
    "n4 = (int)(Math.random() * 45) + 1;\n",
    "n5 = (int)(Math.random() * 45) + 1;\n",
    "n6 = (int)(Math.random() * 45) + 1;\n",
    "\n",
    "System.out.println(\"이번주 로또 번호\");\n",
    "System.out.println(n1);\n",
    "System.out.println(n2);\n",
    "System.out.println(n3);\n",
    "System.out.println(n4);\n",
    "System.out.println(n5);\n",
    "System.out.println(n6);"
   ]
  },
  {
   "cell_type": "raw",
   "id": "59d62251-69ce-41d1-a219-5f1db22b35be",
   "metadata": {},
   "source": [
    "Q. 주사위를 던져서 5가 나오면 종료하는 프로그램 만들기!"
   ]
  },
  {
   "cell_type": "code",
   "execution_count": 136,
   "id": "db149a24-9191-46b4-8020-4c89fc314899",
   "metadata": {},
   "outputs": [
    {
     "name": "stdout",
     "output_type": "stream",
     "text": [
      "주사위 값 : 6\n",
      "주사위 값 : 4\n",
      "주사위 값 : 3\n",
      "주사위 값 : 2\n",
      "주사위 값 : 3\n",
      "주사위 값 : 3\n",
      "주사위 값 : 6\n",
      "주사위 값 : 2\n",
      "주사위 값 : 3\n",
      "주사위 값 : 2\n",
      "주사위 값 : 5\n",
      "\n",
      "던진 횟수 : 11\n",
      "프로그램을 종료합니다.\n"
     ]
    }
   ],
   "source": [
    "// 프로그램을 실행하는 변수\n",
    "boolean run = true;\n",
    "\n",
    "// 주사위 던진 횟수 구하는 변수\n",
    "int count = 0;\n",
    "\n",
    "// 주사위 값을 구하는 변수\n",
    "int dice = 0;\n",
    "\n",
    "while(run){\n",
    "\n",
    "    // 주사위 굴리기\n",
    "    dice = (int)(Math.random() * 6) + 1;\n",
    "\n",
    "    // 카운트 증가\n",
    "    count++;\n",
    "\n",
    "    // 주사위 값 출력\n",
    "    System.out.println(\"주사위 값 : \" + dice);\n",
    "\n",
    "    // 주사위가 5일 경우 프로그램 종료(run = false)\n",
    "        if(dice==5){\n",
    "            run = false;\n",
    "\n",
    "        }\n",
    "}\n",
    "\n",
    "System.out.println();\n",
    "System.out.println(\"던진 횟수 : \" + count);\n",
    "System.out.println(\"프로그램을 종료합니다.\");"
   ]
  },
  {
   "cell_type": "markdown",
   "id": "41f48d8d-fe1f-41fa-bafb-5b33baac8d9b",
   "metadata": {},
   "source": [
    "<h1>while문과 예제 BANK</h1>"
   ]
  },
  {
   "cell_type": "code",
   "execution_count": 139,
   "id": "a8bc63b0-8e51-45c5-a103-1e7713753cee",
   "metadata": {},
   "outputs": [
    {
     "name": "stdout",
     "output_type": "stream",
     "text": [
      "\n",
      "===============================\n",
      "1.입금 | 2.출금 | 3.잔고 | 4.종료\n",
      "===============================\n",
      "선택 >> "
     ]
    },
    {
     "name": "stdin",
     "output_type": "stream",
     "text": [
      " 1\n"
     ]
    },
    {
     "name": "stdout",
     "output_type": "stream",
     "text": [
      "입금액 >> "
     ]
    },
    {
     "name": "stdin",
     "output_type": "stream",
     "text": [
      " 50000\n"
     ]
    },
    {
     "name": "stdout",
     "output_type": "stream",
     "text": [
      "\n",
      "===============================\n",
      "1.입금 | 2.출금 | 3.잔고 | 4.종료\n",
      "===============================\n",
      "선택 >> "
     ]
    },
    {
     "name": "stdin",
     "output_type": "stream",
     "text": [
      " 3\n"
     ]
    },
    {
     "name": "stdout",
     "output_type": "stream",
     "text": [
      "잔액 : 50000원\n",
      "\n",
      "===============================\n",
      "1.입금 | 2.출금 | 3.잔고 | 4.종료\n",
      "===============================\n",
      "선택 >> "
     ]
    },
    {
     "name": "stdin",
     "output_type": "stream",
     "text": [
      " 2\n"
     ]
    },
    {
     "name": "stdout",
     "output_type": "stream",
     "text": [
      "출금액 >> "
     ]
    },
    {
     "name": "stdin",
     "output_type": "stream",
     "text": [
      " 30000\n"
     ]
    },
    {
     "name": "stdout",
     "output_type": "stream",
     "text": [
      "\n",
      "===============================\n",
      "1.입금 | 2.출금 | 3.잔고 | 4.종료\n",
      "===============================\n",
      "선택 >> "
     ]
    },
    {
     "name": "stdin",
     "output_type": "stream",
     "text": [
      " 3\n"
     ]
    },
    {
     "name": "stdout",
     "output_type": "stream",
     "text": [
      "잔액 : 20000원\n",
      "\n",
      "===============================\n",
      "1.입금 | 2.출금 | 3.잔고 | 4.종료\n",
      "===============================\n",
      "선택 >> "
     ]
    },
    {
     "name": "stdin",
     "output_type": "stream",
     "text": [
      " 4\n"
     ]
    },
    {
     "name": "stdout",
     "output_type": "stream",
     "text": [
      "프로그램을 종료합니다.\n"
     ]
    }
   ],
   "source": [
    "         // 입금, 출금, 잔액조회 기능\n",
    "\n",
    "        // 계좌(잔액) 변수\n",
    "        int account = 0;\n",
    "\n",
    "        // while문을 실행하기 위한 조건변수 run을 true로 선언\n",
    "        boolean run = true;\n",
    "\n",
    "        // 메뉴 선택을 위한 변수\n",
    "        int menu;\n",
    "\n",
    "        // 입력을 받기 위한 객체 Scanner 생성\n",
    "        Scanner sc = new Scanner(System.in);\n",
    "\n",
    "        while (run) {\n",
    "            System.out.println();\n",
    "            System.out.println(\"===============================\");\n",
    "            System.out.println(\"1.입금 | 2.출금 | 3.잔고 | 4.종료\");\n",
    "            System.out.println(\"===============================\");\n",
    "            System.out.print(\"선택 >> \");\n",
    "            menu = sc.nextInt();\n",
    "\n",
    "            switch (menu) {\n",
    "                case 1:\n",
    "                    System.out.print(\"입금액 >> \");\n",
    "                    int a = sc.nextInt();\n",
    "                    // account = account + a;\n",
    "                    account += a;\n",
    "                    break;\n",
    "                case 2:\n",
    "                    System.out.print(\"출금액 >> \");\n",
    "                    int b = sc.nextInt();\n",
    "\n",
    "                    // 문제 : 잔액보다 출금액이 클 경우\n",
    "                    // (1) 부족한 금액 출력하기\n",
    "                    // (2) 그렇지 않으면 출금 진행하기\n",
    "                    if (account < b) {\n",
    "                        System.out.println(\"잔액이 \" + (b - account) + \"원 부족합니다.\");\n",
    "                    } else {\n",
    "                        account -= b;\n",
    "                    }\n",
    "                    break;\n",
    "                case 3:\n",
    "                    System.out.println(\"잔액 : \" + account + \"원\");\n",
    "                    break;\n",
    "                case 4:\n",
    "                    run = false;\n",
    "                    System.out.println(\"프로그램을 종료합니다.\");\n",
    "                    sc.close();\n",
    "                    break;\n",
    "                default:\n",
    "                    System.out.println(\"잘못 입력했습니다.\");\n",
    "                    break;\n",
    "            }\n",
    "        }\n"
   ]
  },
  {
   "cell_type": "code",
   "execution_count": 143,
   "id": "d450cca8-ace0-42cd-bbd4-b206ef852b4b",
   "metadata": {},
   "outputs": [
    {
     "name": "stdout",
     "output_type": "stream",
     "text": [
      "\u001b[31m┌────────────────────────────────────────────────────────────────────────────────┐\u001b[0m\n",
      "\u001b[33m│\u001b[0m                               \u001b[34m___\u001b[0m                                              \u001b[33m│\u001b[0m\n",
      "\u001b[32m│\u001b[0m                               \u001b[34m\\\\ \\\u001b[0m                                             \u001b[32m│\u001b[0m\n",
      "\u001b[36m│\u001b[0m                                \u001b[34m\\\\ `\\\u001b[0m                                           \u001b[36m│\u001b[0m\n",
      "\u001b[34m│\u001b[0m             \u001b[34m___                 \\\\  \\\u001b[0m                                          \u001b[34m│\u001b[0m\n",
      "\u001b[35m│\u001b[0m            \u001b[34m|    \\                \\\\  `\\\u001b[0m                                        \u001b[35m│\u001b[0m\n",
      "\u001b[31m│\u001b[0m            \u001b[34m|_____\\                \\    \\\u001b[0m                                       \u001b[31m│\u001b[0m\n",
      "\u001b[33m│\u001b[0m            \u001b[34m|______\\                \\    `\\\u001b[0m                                     \u001b[33m│\u001b[0m\n",
      "\u001b[32m│\u001b[0m            \u001b[34m|       \\                \\     \\\u001b[0m                                    \u001b[32m│\u001b[0m\n",
      "\u001b[36m│\u001b[0m            \u001b[34m|      __\\__---------------------------------._.\u001b[0m                    \u001b[36m│\u001b[0m\n",
      "\u001b[34m│\u001b[0m          \u001b[34m__|---~~~__o_o_o_o_o_o_o_o_o_o_o_o_o_o_o_o_o_o_[][\\__\u001b[0m                 \u001b[34m│\u001b[0m\n",
      "\u001b[35m│\u001b[0m            \u001b[34m|___                         /~      )                \\__\u001b[0m           \u001b[35m│\u001b[0m\n",
      "\u001b[31m│\u001b[0m                 \u001b[34m~~~---..._______________/      ,/_________________/\u001b[0m            \u001b[31m│\u001b[0m\n",
      "\u001b[33m│\u001b[0m                                        \u001b[34m/      /\u001b[0m                                \u001b[33m│\u001b[0m\n",
      "\u001b[32m│\u001b[0m                                      \u001b[34m/     ,/\u001b[0m                                  \u001b[32m│\u001b[0m\n",
      "\u001b[36m│\u001b[0m                                     \u001b[34m/     /\u001b[0m                                    \u001b[36m│\u001b[0m\n",
      "\u001b[34m│\u001b[0m                                    \u001b[34m/    ,/\u001b[0m                                     \u001b[34m│\u001b[0m\n",
      "\u001b[35m│\u001b[0m                                   \u001b[34m/    /\u001b[0m                                       \u001b[35m│\u001b[0m\n",
      "\u001b[31m│\u001b[0m                                  \u001b[34m//  ,/\u001b[0m                                        \u001b[31m│\u001b[0m\n",
      "\u001b[33m│\u001b[0m                                 \u001b[34m//  /\u001b[0m                                          \u001b[33m│\u001b[0m\n",
      "\u001b[32m│\u001b[0m                                \u001b[34m// ,/\u001b[0m                                           \u001b[32m│\u001b[0m\n",
      "\u001b[36m│\u001b[0m                               \u001b[34m//_/\u001b[0m                                             \u001b[36m│\u001b[0m\n",
      "\u001b[34m│\u001b[0m                                                                                \u001b[34m│\u001b[0m\n",
      "\u001b[35m└────────────────────────────────────────────────────────────────────────────────┘\u001b[0m\n",
      "ICIA Cafe에 오신 것을 환영합니다!\n",
      "주문을 도와드리겠습니다.\n",
      "\n",
      "==================================\n",
      "1.아메리카노\t\t2.바닐라라떼\n",
      "3.자몽허니블랙티\t4.바닐라초코칩모카\n",
      "5.결제\n",
      "==================================\n",
      "\n",
      "메뉴 선택 >> "
     ]
    },
    {
     "name": "stdin",
     "output_type": "stream",
     "text": [
      " 4\n"
     ]
    },
    {
     "name": "stdout",
     "output_type": "stream",
     "text": [
      "선택하신 메뉴는 바닐라초코칩모카입니다.\n",
      "갯수를 선택해 주세요 >> "
     ]
    },
    {
     "name": "stdin",
     "output_type": "stream",
     "text": [
      " 5\n"
     ]
    },
    {
     "name": "stdout",
     "output_type": "stream",
     "text": [
      "\n",
      "==================================\n",
      "1.아메리카노\t\t2.바닐라라떼\n",
      "3.자몽허니블랙티\t4.바닐라초코칩모카\n",
      "5.결제\n",
      "==================================\n",
      "\n",
      "메뉴 선택 >> "
     ]
    },
    {
     "name": "stdin",
     "output_type": "stream",
     "text": [
      " 5\n"
     ]
    },
    {
     "name": "stdout",
     "output_type": "stream",
     "text": [
      "결제하실 금액은 20000원 입니다.\n"
     ]
    }
   ],
   "source": [
    "import java.util.Scanner;\n",
    "\n",
    "        static final String black = \"\\u001B[30m\";\n",
    "        public static final String red = \"\\u001B[31m\";\n",
    "        public static final String green = \"\\u001B[32m\";\n",
    "        public static final String yellow = \"\\u001B[33m\";\n",
    "        public static final String blue = \"\\u001B[34m\";\n",
    "        public static final String purple = \"\\u001B[35m\";\n",
    "        public static final String cyan = \"\\u001B[36m\";\n",
    "        public static final String white = \"\\u001B[37m\";\n",
    "        public static final String exit = \"\\u001B[0m\";\n",
    "\n",
    "            // 키오스크(KIOSK) : 무인결제 시스템\n",
    "            Scanner sc = new Scanner(System.in);\n",
    "\n",
    "            // 선택할 메뉴의 번호\n",
    "            int choice = 0;\n",
    "\n",
    "            // 메뉴 이름\n",
    "            String menu = \"\";\n",
    "\n",
    "            // 메뉴 가격\n",
    "            int price = 0;\n",
    "\n",
    "            boolean run = true;\n",
    "\n",
    "            int count = 0;\n",
    "            int total = 0;\n",
    "\n",
    "            System.out.println(red+\"┌────────────────────────────────────────────────────────────────────────────────┐\"+exit);\n",
    "            System.out.println(yellow+\"│\"+exit+\"                               \"+blue+\"___\"+exit+\"                                              \"+yellow+\"│\"+exit);\n",
    "            System.out.println(green+\"│\"+exit+\"                               \"+blue+\"\\\\\\\\ \\\\\"+exit+\"                                             \"+green+\"│\"+exit);\n",
    "            System.out.println(cyan+\"│\"+exit+\"                                \"+blue+\"\\\\\\\\ `\\\\\"+exit+\"                                           \"+cyan+\"│\"+exit);\n",
    "            System.out.println(blue+\"│\"+exit+\"             \"+blue+\"___                 \\\\\\\\  \\\\\"+exit+\"                                          \"+blue+\"│\"+exit);\n",
    "            System.out.println(purple+\"│\"+exit+\"            \"+blue+\"|    \\\\                \\\\\\\\  `\\\\\"+exit+\"                                        \"+purple+\"│\"+exit);\n",
    "            System.out.println(red+\"│\"+exit+\"            \"+blue+\"|_____\\\\                \\\\    \\\\\"+exit+\"                                       \"+red+\"│\"+exit);\n",
    "            System.out.println(yellow+\"│\"+exit+\"            \"+blue+\"|______\\\\                \\\\    `\\\\\"+exit+\"                                     \"+yellow+\"│\"+exit);\n",
    "            System.out.println(green+\"│\"+exit+\"            \"+blue+\"|       \\\\                \\\\     \\\\\"+exit+\"                                    \"+green+\"│\"+exit);\n",
    "            System.out.println(cyan+\"│\"+exit+\"            \"+blue+\"|      __\\\\__---------------------------------._.\"+exit+\"                    \"+cyan+\"│\"+exit);\n",
    "            System.out.println(blue+\"│\"+exit+\"          \"+blue+\"__|---~~~__o_o_o_o_o_o_o_o_o_o_o_o_o_o_o_o_o_o_[][\\\\__\"+exit+\"                 \"+blue+\"│\"+exit);\n",
    "            System.out.println(purple+\"│\"+exit+\"            \"+blue+\"|___                         /~      )                \\\\__\"+exit+\"           \"+purple+\"│\"+exit);\n",
    "            System.out.println(red+\"│\"+exit+\"                 \"+blue+\"~~~---..._______________/      ,/_________________/\"+exit+\"            \"+red+\"│\"+exit);\n",
    "            System.out.println(yellow+\"│\"+exit+\"                                        \"+blue+\"/      /\"+exit+\"                                \"+yellow+\"│\"+exit);\n",
    "            System.out.println(green+\"│\"+exit+\"                                      \"+blue+\"/     ,/\"+exit+\"                                  \"+green+\"│\"+exit);\n",
    "            System.out.println(cyan+\"│\"+exit+\"                                     \"+blue+\"/     /\"+exit+\"                                    \"+cyan+\"│\"+exit);\n",
    "            System.out.println(blue+\"│\"+exit+\"                                    \"+blue+\"/    ,/\"+exit+\"                                     \"+blue+\"│\"+exit);\n",
    "            System.out.println(purple+\"│\"+exit+\"                                   \"+blue+\"/    /\"+exit+\"                                       \"+purple+\"│\"+exit);\n",
    "            System.out.println(red+\"│\"+exit+\"                                  \"+blue+\"//  ,/\"+exit+\"                                        \"+red+\"│\"+exit);\n",
    "            System.out.println(yellow+\"│\"+exit+\"                                 \"+blue+\"//  /\"+exit+\"                                          \"+yellow+\"│\"+exit);\n",
    "            System.out.println(green+\"│\"+exit+\"                                \"+blue+\"// ,/\"+exit+\"                                           \"+green+\"│\"+exit);\n",
    "            System.out.println(cyan+\"│\"+exit+\"                               \"+blue+\"//_/\"+exit+\"                                             \"+cyan+\"│\"+exit);\n",
    "            System.out.println(blue+\"│\"+exit+\"                                                                                \"+blue+\"│\"+exit);\n",
    "            System.out.println(purple+\"└────────────────────────────────────────────────────────────────────────────────┘\"+exit);\n",
    "\n",
    "            System.out.println(\"ICIA Cafe에 오신 것을 환영합니다!\");\n",
    "            System.out.println(\"주문을 도와드리겠습니다.\");\n",
    "\n",
    "            while(run){\n",
    "                System.out.println(\"\\n==================================\");\n",
    "                System.out.println(\"1.아메리카노\\t\\t2.바닐라라떼\");\n",
    "                System.out.println(\"3.자몽허니블랙티\\t4.바닐라초코칩모카\");\n",
    "                System.out.println(\"5.결제\");\n",
    "                System.out.println(\"==================================\\n\");\n",
    "\n",
    "                // \\n : 줄바꿈\n",
    "                // \\t : 간격(tab)만큼 공백\n",
    "                // 둘다 문자열 \"\" 안에서 사용\n",
    "                System.out.print(\"메뉴 선택 >> \");\n",
    "                choice = sc.nextInt();\n",
    "\n",
    "                switch (choice){\n",
    "                    case 1:\n",
    "                        menu = \"아메리카노\";\n",
    "                        price = 2000;\n",
    "                        System.out.println(\"선택하신 메뉴는 \" + menu + \"입니다.\");\n",
    "                        System.out.print(\"갯수를 선택해 주세요 >> \");\n",
    "                        count = sc.nextInt();\n",
    "                        total += price * count;\n",
    "                        break;\n",
    "                    case 2:\n",
    "                        menu = \"바닐라라떼\";\n",
    "                        price = 3000;\n",
    "                        System.out.println(\"선택하신 메뉴는 \" + menu + \"입니다.\");\n",
    "                        System.out.print(\"갯수를 선택해 주세요 >> \");\n",
    "                        count = sc.nextInt();\n",
    "                        total += price * count;\n",
    "                        break;\n",
    "                    case 3:\n",
    "                        menu = \"자몽허니블랙티\";\n",
    "                        price = 3500;\n",
    "                        System.out.println(\"선택하신 메뉴는 \" + menu + \"입니다.\");\n",
    "                        System.out.print(\"갯수를 선택해 주세요 >> \");\n",
    "                        count = sc.nextInt();\n",
    "                        total += price * count;\n",
    "                        break;\n",
    "                    case 4:\n",
    "                        menu = \"바닐라초코칩모카\";\n",
    "                        price = 4000;\n",
    "                        System.out.println(\"선택하신 메뉴는 \" + menu + \"입니다.\");\n",
    "                        System.out.print(\"갯수를 선택해 주세요 >> \");\n",
    "                        count = sc.nextInt();\n",
    "                        total += price * count;\n",
    "                        break;\n",
    "                    case 5 :\n",
    "                        run = false;\n",
    "                        sc.close();\n",
    "                        System.out.println(\"결제하실 금액은 \" + total + \"원 입니다.\");\n",
    "                        break;\n",
    "                    default:\n",
    "                        System.out.println(\"해당메뉴가 없습니다.\");\n",
    "                        break;\n",
    "                }\n",
    "            }"
   ]
  }
 ],
 "metadata": {
  "kernelspec": {
   "display_name": "Java",
   "language": "java",
   "name": "java"
  },
  "language_info": {
   "codemirror_mode": "java",
   "file_extension": ".jshell",
   "mimetype": "text/x-java-source",
   "name": "Java",
   "pygments_lexer": "java",
   "version": "11.0.24+7-LTS-271"
  }
 },
 "nbformat": 4,
 "nbformat_minor": 5
}
