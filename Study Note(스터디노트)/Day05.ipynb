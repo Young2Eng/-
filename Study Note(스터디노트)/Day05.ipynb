{
 "cells": [
  {
   "cell_type": "markdown",
   "id": "6fb2b45f-cdc6-4a36-82f4-9b5de868163d",
   "metadata": {},
   "source": [
    "<h1>반복문 do-while</h1>\n",
    "\n",
    "while문과 do-while문의 차이점\n",
    "    \r",
    " while : 반복문을 실행하기 전에 조건식 검사\n",
    " \n",
    " do-while : 반복문을 실행한 후에 조건식 검사(무조건 한번 실행)"
   ]
  },
  {
   "cell_type": "raw",
   "id": "a0ea66b9-aed6-4ee7-8f05-f8ad7a0a578a",
   "metadata": {},
   "source": [
    "[ do-while 기본구조 ]\n",
    "\n",
    "            do {\n",
    "\n",
    "                반복할 실행문;\n",
    "\n",
    "            } while(조건);"
   ]
  },
  {
   "cell_type": "code",
   "execution_count": 9,
   "id": "c5e1d14f-65fd-4cb8-92ef-15badd26a472",
   "metadata": {},
   "outputs": [
    {
     "name": "stdout",
     "output_type": "stream",
     "text": [
      "20\n"
     ]
    }
   ],
   "source": [
    "int i = 20;\n",
    "        while( i <= 10 ){\n",
    "            System.out.println(i);\n",
    "            i++;\n",
    "        }\n",
    "\n",
    "        do{\n",
    "            System.out.println(i);\n",
    "        } while(i<=10);"
   ]
  },
  {
   "cell_type": "markdown",
   "id": "bc524846-d2bb-4431-9455-2e08139f57f6",
   "metadata": {},
   "source": [
    "Q. do-while문을 사용해서 1부터 10까지 출력"
   ]
  },
  {
   "cell_type": "code",
   "execution_count": 14,
   "id": "3e243025-733e-4984-92b5-dda12a58dd5f",
   "metadata": {},
   "outputs": [
    {
     "name": "stdout",
     "output_type": "stream",
     "text": [
      "1\n",
      "2\n",
      "3\n",
      "4\n",
      "5\n",
      "6\n",
      "7\n",
      "8\n",
      "9\n",
      "10\n"
     ]
    }
   ],
   "source": [
    "int j = 1;\n",
    "\n",
    "        do {\n",
    "            System.out.println(j);\n",
    "            j++;\n",
    "        } while(j<=10);"
   ]
  },
  {
   "cell_type": "markdown",
   "id": "eebd50dd-a5cf-406b-adb6-7cfd8fb09a3e",
   "metadata": {},
   "source": [
    "<h1>반복문 do-while</h1>"
   ]
  },
  {
   "cell_type": "code",
   "execution_count": 17,
   "id": "e638d633-e005-4698-b01d-b9fe8edb47b1",
   "metadata": {},
   "outputs": [
    {
     "name": "stdout",
     "output_type": "stream",
     "text": [
      "Up & Down 게임 시작!\n",
      "1부터 45사이의 숫자를 입력 >> "
     ]
    },
    {
     "name": "stdin",
     "output_type": "stream",
     "text": [
      " 42\n"
     ]
    },
    {
     "name": "stdout",
     "output_type": "stream",
     "text": [
      "Down! 더 작은수를 입력하세요!\n",
      "\n",
      "1부터 45사이의 숫자를 입력 >> "
     ]
    },
    {
     "name": "stdin",
     "output_type": "stream",
     "text": [
      " 32\n"
     ]
    },
    {
     "name": "stdout",
     "output_type": "stream",
     "text": [
      "Down! 더 작은수를 입력하세요!\n",
      "\n",
      "1부터 45사이의 숫자를 입력 >> "
     ]
    },
    {
     "name": "stdin",
     "output_type": "stream",
     "text": [
      " 22\n"
     ]
    },
    {
     "name": "stdout",
     "output_type": "stream",
     "text": [
      "Down! 더 작은수를 입력하세요!\n",
      "\n",
      "1부터 45사이의 숫자를 입력 >> "
     ]
    },
    {
     "name": "stdin",
     "output_type": "stream",
     "text": [
      " 15\n"
     ]
    },
    {
     "name": "stdout",
     "output_type": "stream",
     "text": [
      "Up! 더 큰수를 입력하세요!\n",
      "\n",
      "1부터 45사이의 숫자를 입력 >> "
     ]
    },
    {
     "name": "stdin",
     "output_type": "stream",
     "text": [
      " 17\n"
     ]
    },
    {
     "name": "stdout",
     "output_type": "stream",
     "text": [
      "Up! 더 큰수를 입력하세요!\n",
      "\n",
      "1부터 45사이의 숫자를 입력 >> "
     ]
    },
    {
     "name": "stdin",
     "output_type": "stream",
     "text": [
      " 20\n"
     ]
    },
    {
     "name": "stdout",
     "output_type": "stream",
     "text": [
      "Down! 더 작은수를 입력하세요!\n",
      "\n",
      "1부터 45사이의 숫자를 입력 >> "
     ]
    },
    {
     "name": "stdin",
     "output_type": "stream",
     "text": [
      " 18\n"
     ]
    },
    {
     "name": "stdout",
     "output_type": "stream",
     "text": [
      "Up! 더 큰수를 입력하세요!\n",
      "\n",
      "1부터 45사이의 숫자를 입력 >> "
     ]
    },
    {
     "name": "stdin",
     "output_type": "stream",
     "text": [
      " 19\n"
     ]
    },
    {
     "name": "stdout",
     "output_type": "stream",
     "text": [
      "정답은 19, 시도한 횟수는 8번\n",
      "\n",
      "벌칙!\n"
     ]
    }
   ],
   "source": [
    "// 입력받기 위해 Scanner 객체 생성\n",
    "        Scanner sc = new Scanner(System.in);\n",
    "\n",
    "        // 1 ~ 45 숫자를 말해서 3번 정답을 맞추면 통과, 그렇지 못하면 벌칙\n",
    "        // 정답을 맞추지 못할 경우 입력한 숫자보다 크면 \"Up\", 작으면 \"Down\"\n",
    "\n",
    "        int answer = (int)(Math.random() * 45) + 1;     // 1부터 45사이의 숫자\n",
    "        int input = 0;  // 입력한 숫자\n",
    "        int count = 0;  // 입력한 횟수\n",
    "\n",
    "        boolean run = true;  // 프로그램 실행을 위한 변수\n",
    "\n",
    "        System.out.println(\"Up & Down 게임 시작!\");\n",
    "\n",
    "        do {\n",
    "            System.out.print(\"1부터 45사이의 숫자를 입력 >> \");\n",
    "            input = sc.nextInt();\n",
    "\n",
    "            if (input >= 1 && input <= 45) {\n",
    "                count++;    // 1부터 45사이의 숫자를 입력하면 count 증가\n",
    "\n",
    "                if (input > answer) {     // 입력한 값이 정답보다 클 경우\n",
    "                    System.out.println(\"Down! 더 작은수를 입력하세요!\\n\");\n",
    "                } else if (input < answer) { // 입력한 값이 정답보다 작을 경우\n",
    "                    System.out.println(\"Up! 더 큰수를 입력하세요!\\n\");\n",
    "                } else {\n",
    "                    run = false;\n",
    "                    sc.close();\n",
    "                    System.out.println(\"정답은 \" + answer + \", 시도한 횟수는 \" + count + \"번\\n\");\n",
    "                } // end if(input > answer)\n",
    "\n",
    "            } else {\n",
    "                System.out.println(\"잘못 입력했습니다.\");\n",
    "            } // end if(input >= 1 && input <= 45)\n",
    "\n",
    "        } while (run);\n",
    "\n",
    "        if (count <= 3) {\n",
    "            System.out.println(\"통과!\");\n",
    "        } else {\n",
    "            System.out.println(\"벌칙!\");\n",
    "        }  // end if(count <= 3)"
   ]
  },
  {
   "cell_type": "markdown",
   "id": "8657c088-0a88-42ea-a266-a9e20d5406db",
   "metadata": {},
   "source": [
    "<h1>Array 배열</h1>"
   ]
  },
  {
   "cell_type": "code",
   "execution_count": 23,
   "id": "8389a87b-948e-4bbf-8f80-80bd1c9132ab",
   "metadata": {},
   "outputs": [
    {
     "name": "stdout",
     "output_type": "stream",
     "text": [
      "num의 첫번째 값 : 10\n",
      "num의 두번째 값 : 20\n"
     ]
    }
   ],
   "source": [
    "        // Array(배열) : 같은 타입의 데이터를 하나의 변수에 저장하는 구조\n",
    "        // int num1, int num2, int num3 ==> numbers\n",
    "\n",
    "        // 배열 선언\n",
    "        // (1) 타입[] 배열이름;\n",
    "        int[] nums;\n",
    "\n",
    "        // (2) 타입 배열이름[];\n",
    "        int numbers[];\n",
    "\n",
    "        int i;      // 선언\n",
    "        i = 10;     // 할당\n",
    "        int j = 20; // 선언 + 할당\n",
    "\n",
    "        // 배열 선언과 할당\n",
    "        int[] num;      // 선언\n",
    "        num = new int[]{10, 20};    // 할당(초기화)\n",
    "        int[] numb = {30, 40};      // 선언 + 할당\n",
    "\n",
    "        // 배열값 출력\n",
    "        System.out.println(\"num의 첫번째 값 : \" + num[0]);\n",
    "        System.out.println(\"num의 두번째 값 : \" + num[1]);"
   ]
  },
  {
   "cell_type": "markdown",
   "id": "8a1ac50e-11b3-4695-b68b-6d4a18f61340",
   "metadata": {},
   "source": [
    "Q. number 배열의 값을 출력하시오. 반복문(for)을 활용한 배열 출력"
   ]
  },
  {
   "cell_type": "code",
   "execution_count": 63,
   "id": "0b3552d9-5a01-4c41-88ec-e3277655e0e2",
   "metadata": {},
   "outputs": [
    {
     "name": "stdout",
     "output_type": "stream",
     "text": [
      "10\n",
      "20\n",
      "30\n",
      "40\n"
     ]
    }
   ],
   "source": [
    "int[] number = {10, 20, 30, 40};\n",
    "\n",
    "for(int arr=0; arr<4; arr++){\n",
    "    System.out.println(number[arr]);\n",
    "}"
   ]
  },
  {
   "cell_type": "markdown",
   "id": "d129d3af-8abd-413b-a9df-89a45e802287",
   "metadata": {},
   "source": [
    "**배열의 크기 : length(길이)**\n",
    "\n",
    "    for( int i = 0 ; i < 배열의크기(length) ; i++ ) {\n",
    "\n",
    "        반복문 실행!\n",
    "        i가 0부터 시작, i는 배열의 크기보다 작다.\n",
    "\n",
    "    }\n",
    "\n",
    "//반복문 실행!\n",
    "//i가 0부터 시작, i는 배열의 크기보다 작다."
   ]
  },
  {
   "cell_type": "code",
   "execution_count": 66,
   "id": "4960e72d-7140-48c7-8c7d-65ce808fe957",
   "metadata": {},
   "outputs": [
    {
     "name": "stdout",
     "output_type": "stream",
     "text": [
      "chArr 배열의 크기 : 8\n",
      "strArr 배열의 크기 : 3\n"
     ]
    }
   ],
   "source": [
    "char[] chArr = {'인', '천', '일', '보', '아', '카', '데', '미'};\n",
    "String[] strArr = {\"인\", \"천일보\", \"아카데미\"};\n",
    "\n",
    "    int chLength = chArr.length;\n",
    "    int strLength = strArr.length;\n",
    "    System.out.println(\"chArr 배열의 크기 : \" + chLength);  \n",
    "    System.out.println(\"strArr 배열의 크기 : \" + strLength);    "
   ]
  },
  {
   "cell_type": "code",
   "execution_count": 68,
   "id": "90b56dce-f61e-4c28-86db-e257b0bc606a",
   "metadata": {},
   "outputs": [
    {
     "name": "stdout",
     "output_type": "stream",
     "text": [
      "number[0] : 10\n",
      "number[1] : 20\n",
      "number[2] : 30\n",
      "number[3] : 40\n"
     ]
    }
   ],
   "source": [
    "int[] number = {10, 20, 30, 40};\n",
    "\n",
    "for(int arr=0; arr<number.length; arr++){\n",
    "        System.out.println(\"number[\" + arr + \"] : \" + number[arr]);\n",
    "}"
   ]
  },
  {
   "cell_type": "markdown",
   "id": "caee25af-fefa-4fe4-a611-199e82c6b43c",
   "metadata": {},
   "source": [
    "<h1>Array 배열 예제1</h1>\n",
    "\n",
    "Q. 세과목의 점수를 배열에 저장하고  세과목 각각의 점수와 총점, 그리고 평균을 구하시.오"
   ]
  },
  {
   "cell_type": "code",
   "execution_count": 79,
   "id": "25d8a376-e0fb-4691-bfbb-ff9b46472004",
   "metadata": {},
   "outputs": [
    {
     "name": "stdout",
     "output_type": "stream",
     "text": [
      "1번 과목 점수 : 90\n",
      "2번 과목 점수 : 80\n",
      "3번 과목 점수 : 84\n",
      "총점 : 254\n",
      "평균 : 84.66666666666667\n",
      "평균(반올림) : 84.67\n"
     ]
    }
   ],
   "source": [
    "        // int[] score 점수를 90점, 80점, 84점\n",
    "        int[] score = {90, 80, 84};\n",
    "\n",
    "        // 총점 int sum\n",
    "        int sum = 0;\n",
    "\n",
    "        // 평균은 double avg\n",
    "        double avg = 0.0;\n",
    "\n",
    "        for(int i=0; i<score.length; i++){\n",
    "            System.out.println((i+1) + \"번 과목 점수 : \" + score[i]);\n",
    "            sum += score[i];\n",
    "        }\n",
    "\n",
    "        System.out.println(\"총점 : \" + sum);\n",
    "\n",
    "        avg = (double)sum / score.length;\n",
    "        System.out.println(\"평균 : \" + avg);  // 84.6666666666666\n",
    "\n",
    "        avg = (Math.round(avg * 100.0) / 100.0);\n",
    "        // [1] avg : 84.666666666666\n",
    "        // [2] avg * 100.0 : 8466.6666666666\n",
    "        // [3] Math.round(8466.666666666) : 8467\n",
    "        // [4] 8467 / 100.0 : 84.67\n",
    "        System.out.println(\"평균(반올림) : \" + avg);"
   ]
  },
  {
   "cell_type": "markdown",
   "id": "8e7cf082-7249-44d1-a289-1907ea55fe05",
   "metadata": {},
   "source": [
    "<h1>Array 배열 예제2</h1>"
   ]
  },
  {
   "cell_type": "code",
   "execution_count": 82,
   "id": "f2056574-8434-4929-b2d4-d538eff9f07c",
   "metadata": {},
   "outputs": [
    {
     "name": "stdout",
     "output_type": "stream",
     "text": [
      "입력받을 과목 갯수 >> "
     ]
    },
    {
     "name": "stdin",
     "output_type": "stream",
     "text": [
      " 3\n"
     ]
    },
    {
     "name": "stdout",
     "output_type": "stream",
     "text": [
      "1번 과목 점수 >> "
     ]
    },
    {
     "name": "stdin",
     "output_type": "stream",
     "text": [
      " 98\n"
     ]
    },
    {
     "name": "stdout",
     "output_type": "stream",
     "text": [
      "2번 과목 점수 >> "
     ]
    },
    {
     "name": "stdin",
     "output_type": "stream",
     "text": [
      " 76\n"
     ]
    },
    {
     "name": "stdout",
     "output_type": "stream",
     "text": [
      "3번 과목 점수 >> "
     ]
    },
    {
     "name": "stdin",
     "output_type": "stream",
     "text": [
      " 82\n"
     ]
    },
    {
     "name": "stdout",
     "output_type": "stream",
     "text": [
      "1번 과목 점수 : 98\n",
      "2번 과목 점수 : 76\n",
      "3번 과목 점수 : 82\n",
      "총점 : 256\n",
      "평균 : 85.33\n"
     ]
    }
   ],
   "source": [
    "        // 입력 객체\n",
    "        Scanner sc = new Scanner(System.in);\n",
    "\n",
    "        // 총점 평균\n",
    "        int sum = 0;\n",
    "        double avg = 0.0;\n",
    "\n",
    "        // 입력받을 과목의 갯수 정하기(배열의 크기 정하기)\n",
    "        System.out.print(\"입력받을 과목 갯수 >> \");\n",
    "        int n = sc.nextInt();\n",
    "\n",
    "        // 갯수에 따른 배열 생성\n",
    "        int[] score = new int[n];\n",
    "\n",
    "        // 과목점수 입력\n",
    "        for(int i=0; i<score.length; i++){\n",
    "            // 입력\n",
    "            System.out.print((i+1) + \"번 과목 점수 >> \");\n",
    "            score[i] = sc.nextInt();\n",
    "        }\n",
    "\n",
    "        for(int i=0; i<score.length; i++){\n",
    "            // 출력\n",
    "            System.out.println((i+1) + \"번 과목 점수 : \" + score[i]);\n",
    "\n",
    "            // 합계\n",
    "            sum += score[i];\n",
    "        }\n",
    "\n",
    "        System.out.println(\"총점 : \" + sum);\n",
    "\n",
    "        avg = (double)sum / score.length;\n",
    "        avg = (Math.round(avg * 100.0) / 100.0);\n",
    "\n",
    "        System.out.println(\"평균 : \" + avg);"
   ]
  },
  {
   "cell_type": "markdown",
   "id": "0f54d704-0fb9-4730-b9da-9559c9fecc6a",
   "metadata": {},
   "source": [
    "<h1>배열 검색</h1>"
   ]
  },
  {
   "cell_type": "code",
   "execution_count": 1,
   "id": "e1e9b4ed-faea-4c46-a883-3b8db7ba4170",
   "metadata": {},
   "outputs": [
    {
     "name": "stdout",
     "output_type": "stream",
     "text": [
      "1부터 10사이의 숫자 입력 >> "
     ]
    },
    {
     "name": "stdin",
     "output_type": "stream",
     "text": [
      " 5\n"
     ]
    },
    {
     "name": "stdout",
     "output_type": "stream",
     "text": [
      "입력한 값 5는(은) 9번째 있다.\n"
     ]
    }
   ],
   "source": [
    "        // 주어진 배열의 값이 어떤 index에 위치하는지 알아보는 예제\n",
    "        int[] num = {8, 2, 6, 1, 3, 4, 10, 7, 5, 9};\n",
    "\n",
    "        Scanner sc = new Scanner(System.in);\n",
    "        System.out.print(\"1부터 10사이의 숫자 입력 >> \");\n",
    "        int value = sc.nextInt();\n",
    "\n",
    "        int idx = 0;\n",
    "        for(int i=0; i<num.length; i++){\n",
    "            if(value==num[i]){\n",
    "                idx = i + 1;\n",
    "                break;\n",
    "            }\n",
    "        }\n",
    "        System.out.println(\"입력한 값 \" + value + \"는(은) \" + idx + \"번째 있다.\");"
   ]
  },
  {
   "cell_type": "code",
   "execution_count": 13,
   "id": "e181d1b1-bc0e-46c8-8e12-fb33e4d7ec8f",
   "metadata": {},
   "outputs": [
    {
     "name": "stdout",
     "output_type": "stream",
     "text": [
      "학생 이름 입력 >> "
     ]
    },
    {
     "name": "stdin",
     "output_type": "stream",
     "text": [
      " Sarah\n"
     ]
    },
    {
     "name": "stdout",
     "output_type": "stream",
     "text": [
      "Sarah 학생은 20번 입니다.\n"
     ]
    }
   ],
   "source": [
    "        Scanner sc = new Scanner(System.in);\n",
    "\n",
    "        String[] students = { \"Ila\", \"김은채\", \"Kaily\", \"서종범\",\n",
    "                              \"송태영\", \"신혜민\", \"유기민\", \"Kim\",\n",
    "                              \"Hanna\", \"이시연\", \"Ilay\", \"이진혁\",\n",
    "                              \"이희철\", \"Kristin\", \"정진성\", \"정진우\",\n",
    "                              \"조다은\", \"조민주\", \"채건\", \"Sarah\",\n",
    "                              \"Kevin\", \"한인덕\" };\n",
    "\n",
    "        // 이름을 입력했을때 해당 학생의 번호를 출력하시오.\n",
    "        System.out.print(\"학생 이름 입력 >> \");\n",
    "        String name = sc.next();\n",
    "\n",
    "        int idn = 0;\n",
    "\n",
    "        for(int i=0; i<students.length; i++){\n",
    "            if(name.equals(students[i])){\n",
    "                idn = i + 1;\n",
    "                System.out.println(name + \" 학생은 \" + idn + \"번 입니다.\");\n",
    "                break;\n",
    "            }\n",
    "        }\n",
    "        if(idn == 0){\n",
    "            System.out.println(\"해당 학생이 존재하지 않습니다.\");\n",
    "        }\n"
   ]
  },
  {
   "cell_type": "markdown",
   "id": "d7109cf8-ee2d-426e-882b-d3066b7e33f0",
   "metadata": {},
   "source": [
    "<h1>가장 큰 배열값 찾기</h1>\n",
    "\n",
    "Q. 3개의 정수를 입력받아서 가장 큰 수를 찾기! 크기가 3인 배열 arrInt를 만들어서 구하기. 가장 큰 수 int max = 0 으로 시작"
   ]
  },
  {
   "cell_type": "code",
   "execution_count": 17,
   "id": "18df970b-9b35-47d2-b674-ce3fa145542e",
   "metadata": {},
   "outputs": [
    {
     "name": "stdout",
     "output_type": "stream",
     "text": [
      "숫자 3개 입력 \n",
      "1번 숫자 >> "
     ]
    },
    {
     "name": "stdin",
     "output_type": "stream",
     "text": [
      " 54\n"
     ]
    },
    {
     "name": "stdout",
     "output_type": "stream",
     "text": [
      "2번 숫자 >> "
     ]
    },
    {
     "name": "stdin",
     "output_type": "stream",
     "text": [
      " 64\n"
     ]
    },
    {
     "name": "stdout",
     "output_type": "stream",
     "text": [
      "3번 숫자 >> "
     ]
    },
    {
     "name": "stdin",
     "output_type": "stream",
     "text": [
      " 81\n"
     ]
    },
    {
     "name": "stdout",
     "output_type": "stream",
     "text": [
      "가장 큰 수는 81 입니다.\n"
     ]
    }
   ],
   "source": [
    "        int[] arrInt = new int[3];\n",
    "\n",
    "        System.out.println(\"숫자 \" + arrInt.length + \"개 입력 \");\n",
    "\n",
    "        for(int i=0; i<arrInt.length; i++){\n",
    "            System.out.print((i+1) +\"번 숫자 >> \");\n",
    "            arrInt[i] = sc.nextInt();\n",
    "        }\n",
    "\n",
    "        int max = arrInt[0];    // 첫번째 배열의 값을 최댓값으로 설정\n",
    "\n",
    "        for(int i=0; i<arrInt.length; i++){\n",
    "            if(arrInt[i] > max){\n",
    "                max = arrInt[i];\n",
    "            }\n",
    "        }\n",
    "\n",
    "        System.out.println(\"가장 큰 수는 \" + max + \" 입니다.\");"
   ]
  },
  {
   "cell_type": "markdown",
   "id": "640f882b-2d01-4bfc-8927-1b1adba74ef3",
   "metadata": {},
   "source": [
    "<h1>Array 배열 예제3</h1>\n",
    "\n",
    "Q. 배열을 활용한 성적입력 프로그램 만들기 ( while문, switch문 사용)"
   ]
  },
  {
   "cell_type": "code",
   "execution_count": 22,
   "id": "35e1533b-ace7-4ed2-95c8-9de774876f0d",
   "metadata": {},
   "outputs": [
    {
     "name": "stdout",
     "output_type": "stream",
     "text": [
      "\n",
      "====================================================\n",
      "1.학생수 | 2.점수입력 | 3.점수출력 | 4.점수분석  | 5.종료\n",
      "====================================================\n",
      "선택 >> "
     ]
    },
    {
     "name": "stdin",
     "output_type": "stream",
     "text": [
      " 1\n"
     ]
    },
    {
     "name": "stdout",
     "output_type": "stream",
     "text": [
      "학생수 입력 >> "
     ]
    },
    {
     "name": "stdin",
     "output_type": "stream",
     "text": [
      " 4\n"
     ]
    },
    {
     "name": "stdout",
     "output_type": "stream",
     "text": [
      "\n",
      "====================================================\n",
      "1.학생수 | 2.점수입력 | 3.점수출력 | 4.점수분석  | 5.종료\n",
      "====================================================\n",
      "선택 >> "
     ]
    },
    {
     "name": "stdin",
     "output_type": "stream",
     "text": [
      " 2\n"
     ]
    },
    {
     "name": "stdout",
     "output_type": "stream",
     "text": [
      "1번 학생 점수 입력 >> "
     ]
    },
    {
     "name": "stdin",
     "output_type": "stream",
     "text": [
      " 64\n"
     ]
    },
    {
     "name": "stdout",
     "output_type": "stream",
     "text": [
      "2번 학생 점수 입력 >> "
     ]
    },
    {
     "name": "stdin",
     "output_type": "stream",
     "text": [
      " 87\n"
     ]
    },
    {
     "name": "stdout",
     "output_type": "stream",
     "text": [
      "3번 학생 점수 입력 >> "
     ]
    },
    {
     "name": "stdin",
     "output_type": "stream",
     "text": [
      " 52\n"
     ]
    },
    {
     "name": "stdout",
     "output_type": "stream",
     "text": [
      "4번 학생 점수 입력 >> "
     ]
    },
    {
     "name": "stdin",
     "output_type": "stream",
     "text": [
      " 94\n"
     ]
    },
    {
     "name": "stdout",
     "output_type": "stream",
     "text": [
      "\n",
      "====================================================\n",
      "1.학생수 | 2.점수입력 | 3.점수출력 | 4.점수분석  | 5.종료\n",
      "====================================================\n",
      "선택 >> "
     ]
    },
    {
     "name": "stdin",
     "output_type": "stream",
     "text": [
      " 3\n"
     ]
    },
    {
     "name": "stdout",
     "output_type": "stream",
     "text": [
      "1번 학생 점수 : 64\n",
      "2번 학생 점수 : 87\n",
      "3번 학생 점수 : 52\n",
      "4번 학생 점수 : 94\n",
      "\n",
      "====================================================\n",
      "1.학생수 | 2.점수입력 | 3.점수출력 | 4.점수분석  | 5.종료\n",
      "====================================================\n",
      "선택 >> "
     ]
    },
    {
     "name": "stdin",
     "output_type": "stream",
     "text": [
      " 4\n"
     ]
    },
    {
     "name": "stdout",
     "output_type": "stream",
     "text": [
      "총점 : 297\n",
      "평균 : 74.25\n",
      "최고점수 : 94점(4번 학생)\n",
      "\n",
      "====================================================\n",
      "1.학생수 | 2.점수입력 | 3.점수출력 | 4.점수분석  | 5.종료\n",
      "====================================================\n",
      "선택 >> "
     ]
    },
    {
     "name": "stdin",
     "output_type": "stream",
     "text": [
      " 5\n"
     ]
    },
    {
     "name": "stdout",
     "output_type": "stream",
     "text": [
      "프로그램을 종료합니다.\n"
     ]
    }
   ],
   "source": [
    "        Scanner sc = new Scanner(System.in);\n",
    "        boolean run = true;\n",
    "        int menu = 0;\n",
    "        int stuNum = 0;\n",
    "        int[] scores = null;\n",
    "\n",
    "        do{\n",
    "            System.out.println();\n",
    "            System.out.println(\"====================================================\");\n",
    "            System.out.println(\"1.학생수 | 2.점수입력 | 3.점수출력 | 4.점수분석  | 5.종료\");\n",
    "            System.out.println(\"====================================================\");\n",
    "            System.out.print(\"선택 >> \");\n",
    "            menu = sc.nextInt();\n",
    "\n",
    "            switch (menu){\n",
    "                case 1 :\n",
    "                    System.out.print(\"학생수 입력 >> \");\n",
    "                    stuNum = sc.nextInt();\n",
    "                    scores = new int[stuNum];\n",
    "                    break;\n",
    "                case 2 :\n",
    "                    for(int i=0; i<scores.length; i++){\n",
    "                        System.out.print((i+1) + \"번 학생 점수 입력 >> \");\n",
    "                        scores[i] = sc.nextInt();\n",
    "                    }\n",
    "                    break;\n",
    "                case 3 :\n",
    "                    for(int i=0; i<scores.length; i++){\n",
    "                        System.out.println((i+1) + \"번 학생 점수 : \" + scores[i]);\n",
    "                    }\n",
    "                    break;\n",
    "                case 4 :\n",
    "                    int sum = 0;\n",
    "                    double avg = 0.0;\n",
    "                    int max = 0;\n",
    "                    int idx = 0;\n",
    "\n",
    "                    for(int i=0; i<scores.length; i++){\n",
    "                        sum += scores[i];\n",
    "\n",
    "                        if(scores[i] > max){\n",
    "                            max = scores[i];\n",
    "                        }\n",
    "\n",
    "                        if(max == scores[i]){\n",
    "                            idx = i + 1;\n",
    "                        }\n",
    "                    }\n",
    "\n",
    "                    System.out.println(\"총점 : \" + sum);\n",
    "\n",
    "                    avg = Math.round((double) sum / scores.length  * 100.0) / 100.0;\n",
    "                    System.out.println(\"평균 : \" + avg);\n",
    "\n",
    "                    System.out.println(\"최고점수 : \" + max + \"점(\" + idx + \"번 학생)\");\n",
    "                    break;\n",
    "                case 5 :\n",
    "                    run = false;\n",
    "                    sc.close();\n",
    "                    System.out.println(\"프로그램을 종료합니다.\");\n",
    "                    break;\n",
    "                default:\n",
    "                    System.out.println(\"잘못 입력했습니다.\");\n",
    "                    break;\n",
    "            }\n",
    "\n",
    "        } while(run);"
   ]
  },
  {
   "cell_type": "markdown",
   "id": "8c6c5827-7ccc-4a96-bacc-5ed42d4372eb",
   "metadata": {},
   "source": [
    "<h1>2차원 배열</h1>\n",
    "\n",
    "데이터타입[][] 배열이름 = new 데이터타입[i][j]\n",
    "    \n",
    "i : 행의 갯\n",
    "\n",
    "j : 열의 갯수"
   ]
  },
  {
   "cell_type": "code",
   "execution_count": 28,
   "id": "c664f10b-905f-49cd-a98c-0d18bf20b20c",
   "metadata": {},
   "outputs": [
    {
     "name": "stdout",
     "output_type": "stream",
     "text": [
      "numbers[2][3]의 2차원 배열 크기\n",
      "numbers.length(i크기) : 2\n",
      "numbers[0].length(j크기) : 3\n",
      "numbers[0][0] : 0\n",
      "numbers[0][1] : 1\n",
      "numbers[0][2] : 2\n",
      "\n",
      "numbers[1][0] : 3\n",
      "numbers[1][1] : 4\n",
      "numbers[1][2] : 5\n",
      "\n"
     ]
    }
   ],
   "source": [
    "        int[][] numbers = {\n",
    "                            {0, 1, 2} ,\n",
    "                            {3, 4, 5}\n",
    "                          };\n",
    "            // System.out.println(\"numbers[0][0] : \" + numbers[0][0]); // 0\n",
    "            // System.out.println(\"numbers[0][1] : \" + numbers[0][1]); // 1\n",
    "            // System.out.println(\"numbers[0][2] : \" + numbers[0][2]); // 2\n",
    "    \n",
    "            // System.out.println(\"numbers[1][0] : \" + numbers[1][0]); // 3\n",
    "            // System.out.println(\"numbers[1][1] : \" + numbers[1][1]); // 4\n",
    "            // System.out.println(\"numbers[1][2] : \" + numbers[1][2]); // 5\n",
    "\n",
    "        // for문(중첩for문)을 사용해서 2차원 배열 출력하기!\n",
    "        System.out.println(\"numbers[2][3]의 2차원 배열 크기\");\n",
    "        System.out.println(\"numbers.length(i크기) : \" + numbers.length );\n",
    "        System.out.println(\"numbers[0].length(j크기) : \" + numbers[0].length );\n",
    "        // System.out.println(\"numbers[i].length(j크기) : \" + numbers[i].length );\n",
    "\n",
    "        for(int i=0; i<numbers.length; i++){\n",
    "\n",
    "            for(int j=0; j<numbers[i].length; j++){\n",
    "                System.out.println(\"numbers[\" + i + \"][\" + j + \"] : \" + numbers[i][j]);\n",
    "            }\n",
    "            System.out.println();\n",
    "\n",
    "        }\n"
   ]
  },
  {
   "cell_type": "markdown",
   "id": "0c441e60-4423-425c-824e-7d260d9351d1",
   "metadata": {},
   "source": [
    "<h1>TimesTable2</h1>\n",
    "\n",
    "Q. 구구단 중첩 for문을 사용해서 2차원 배열을 활용해서 구구단 만들기! (2단부터 9단까지)\n",
    "\n",
    "    int[][] multi = new int[10][10];\n",
    "\n",
    "    for(int i=2; i<multi.length; i++){\n",
    "\n",
    "        for(int j=1; j<multi[i].length; j++){\n",
    "\n",
    "            System.out.println(i + \" x \" + j + \" = \" + (i*j));\n",
    "\n",
    "         }\n",
    "    }"
   ]
  },
  {
   "cell_type": "code",
   "execution_count": 32,
   "id": "d159f2b5-4ed8-42b0-9cbf-d5c1d9a45de0",
   "metadata": {},
   "outputs": [
    {
     "name": "stdout",
     "output_type": "stream",
     "text": [
      "2 x 1 = 2\n",
      "2 x 2 = 4\n",
      "2 x 3 = 6\n",
      "2 x 4 = 8\n",
      "2 x 5 = 10\n",
      "2 x 6 = 12\n",
      "2 x 7 = 14\n",
      "2 x 8 = 16\n",
      "2 x 9 = 18\n",
      "3 x 1 = 3\n",
      "3 x 2 = 6\n",
      "3 x 3 = 9\n",
      "3 x 4 = 12\n",
      "3 x 5 = 15\n",
      "3 x 6 = 18\n",
      "3 x 7 = 21\n",
      "3 x 8 = 24\n",
      "3 x 9 = 27\n",
      "4 x 1 = 4\n",
      "4 x 2 = 8\n",
      "4 x 3 = 12\n",
      "4 x 4 = 16\n",
      "4 x 5 = 20\n",
      "4 x 6 = 24\n",
      "4 x 7 = 28\n",
      "4 x 8 = 32\n",
      "4 x 9 = 36\n",
      "5 x 1 = 5\n",
      "5 x 2 = 10\n",
      "5 x 3 = 15\n",
      "5 x 4 = 20\n",
      "5 x 5 = 25\n",
      "5 x 6 = 30\n",
      "5 x 7 = 35\n",
      "5 x 8 = 40\n",
      "5 x 9 = 45\n",
      "6 x 1 = 6\n",
      "6 x 2 = 12\n",
      "6 x 3 = 18\n",
      "6 x 4 = 24\n",
      "6 x 5 = 30\n",
      "6 x 6 = 36\n",
      "6 x 7 = 42\n",
      "6 x 8 = 48\n",
      "6 x 9 = 54\n",
      "7 x 1 = 7\n",
      "7 x 2 = 14\n",
      "7 x 3 = 21\n",
      "7 x 4 = 28\n",
      "7 x 5 = 35\n",
      "7 x 6 = 42\n",
      "7 x 7 = 49\n",
      "7 x 8 = 56\n",
      "7 x 9 = 63\n",
      "8 x 1 = 8\n",
      "8 x 2 = 16\n",
      "8 x 3 = 24\n",
      "8 x 4 = 32\n",
      "8 x 5 = 40\n",
      "8 x 6 = 48\n",
      "8 x 7 = 56\n",
      "8 x 8 = 64\n",
      "8 x 9 = 72\n",
      "9 x 1 = 9\n",
      "9 x 2 = 18\n",
      "9 x 3 = 27\n",
      "9 x 4 = 36\n",
      "9 x 5 = 45\n",
      "9 x 6 = 54\n",
      "9 x 7 = 63\n",
      "9 x 8 = 72\n",
      "9 x 9 = 81\n"
     ]
    }
   ],
   "source": [
    "int[][] multi = new int[8][9];\n",
    "\n",
    "        for(int i=0; i< multi.length; i++){\n",
    "            for (int j=0; j<multi[i].length; j++){\n",
    "                System.out.println((i+2) + \" x \" + (j+1) + \" = \" + ((i+2)*(j+1)));\n",
    "                }\n",
    "            }"
   ]
  }
 ],
 "metadata": {
  "kernelspec": {
   "display_name": "Java",
   "language": "java",
   "name": "java"
  },
  "language_info": {
   "codemirror_mode": "java",
   "file_extension": ".jshell",
   "mimetype": "text/x-java-source",
   "name": "Java",
   "pygments_lexer": "java",
   "version": "11.0.24+7-LTS-271"
  }
 },
 "nbformat": 4,
 "nbformat_minor": 5
}
