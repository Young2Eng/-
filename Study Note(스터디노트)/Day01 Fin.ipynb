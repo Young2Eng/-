{
 "cells": [
  {
   "cell_type": "markdown",
   "id": "aa83d63b-c384-4553-9f9b-36610ad7fe93",
   "metadata": {},
   "source": [
    "<H1> 1.Java & IntelliJ 설정 </H1>"
   ]
  },
  {
   "cell_type": "code",
   "execution_count": 55,
   "id": "445f9749-982c-4e6c-89ef-8f1591c94a23",
   "metadata": {},
   "outputs": [],
   "source": [
    "public class _01_HelloJava {  // 파일 이름\n",
    "    \n",
    "    public static void main(String[] args) {\n",
    "\n",
    "    // 실제 프로그램이 실행되는 영역 (메인메소드)\n",
    "    // psvm 입력 후 + [Enter]\n",
    "    }\n",
    "}"
   ]
  },
  {
   "cell_type": "markdown",
   "id": "8df39e06-9deb-49f6-91f9-4e0a1d81da20",
   "metadata": {},
   "source": [
    "**※주피터 노트북으로 코드를 실행시킬 시 위에 코드는 생략 가능**"
   ]
  },
  {
   "cell_type": "markdown",
   "id": "e8cdeb31-8921-4dbc-80b8-c70433d3d515",
   "metadata": {},
   "source": [
    "<H3>[1] 주석 : 내용은 작성하지만 실행은 되지 않는다.</H3>\n",
    "\n",
    "(1) 한줄 주석 : [Ctrl] + [/]\n",
    "\n",
    "//\n",
    "\n",
    "(2) 범위 주석 : [Ctrl] + [Shift] + [/]\n",
    "\n",
    "/*\n",
    "\n",
    "*/\n",
    "\n",
    "(3) 문서정보 주석   \n",
    "\n",
    "/**\n",
    "\n",
    "*/"
   ]
  },
  {
   "cell_type": "markdown",
   "id": "112ed300-806a-4c1a-9506-aebb3fda5ba0",
   "metadata": {},
   "source": [
    "<H3>[2] 출력 : sout + [Enter]</H3>"
   ]
  },
  {
   "cell_type": "code",
   "execution_count": 60,
   "id": "429ae007-b881-4a6b-a58d-2dff26a946a9",
   "metadata": {},
   "outputs": [
    {
     "name": "stdout",
     "output_type": "stream",
     "text": [
      "안녕하세요1\n",
      "안녕하세요2안녕하세요3\n",
      "print()안에는 반드시 내용을 작성해야 한다.ln은 line의 약자\n"
     ]
    }
   ],
   "source": [
    "System.out.println(\"안녕하세요1\");\n",
    "System.out.print(\"안녕하세요2\");\n",
    "System.out.print(\"안녕하세요3\");\n",
    "\n",
    "System.out.println();\n",
    "System.out.print(\"print()안에는 반드시 내용을 작성해야 한다.\");\n",
    "System.out.println(\"ln은 line의 약자\");"
   ]
  },
  {
   "cell_type": "markdown",
   "id": "82f3fa05-bb14-4c92-adfa-934c3000eae9",
   "metadata": {},
   "source": [
    "<dive>\n",
    "    <h4>\n",
    "        \n",
    "    [3] 실행 : [Shift] + [F10]\n",
    "    \n",
    "    [4] 정렬** : [Ctrl] + [Alt] + [L]\n",
    "    \n",
    "    [5] 저장** : [Ctrl] + [S]\n",
    "    \n",
    "    [6] 한줄 복사 : [Ctrl] + [D]\n",
    "    \n",
    "    [7] 한줄 이동 : [Alt] + [Shift] + [화살표]\n",
    "    \n",
    "    [8] 한줄 제거 : [Ctrl] + [Y]\n",
    "    \n",
    "    [9] 글자 크기 변경 : 설정 변경 후 [Ctrl] + [마우스휠]\n",
    "    \n",
    "</h4>\n",
    "    \n",
    "</dive>"
   ]
  }
 ],
 "metadata": {
  "kernelspec": {
   "display_name": "Java",
   "language": "java",
   "name": "java"
  },
  "language_info": {
   "codemirror_mode": "java",
   "file_extension": ".jshell",
   "mimetype": "text/x-java-source",
   "name": "Java",
   "pygments_lexer": "java",
   "version": "11.0.24+7-LTS-271"
  }
 },
 "nbformat": 4,
 "nbformat_minor": 5
}
