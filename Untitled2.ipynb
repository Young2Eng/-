{
 "cells": [
  {
   "cell_type": "code",
   "execution_count": 9,
   "id": "6c8b18c3-d7b4-4649-9ff5-042fb1d1826e",
   "metadata": {},
   "outputs": [],
   "source": [
    " System.out.println(\"안녕하세요1\");\n",
    "System.out.print(\"안녕하세요2\");\n",
    "System.out.print(\"안녕하세요3\");\n"
   ]
  }
 ],
 "metadata": {
  "kernelspec": {
   "display_name": "Java",
   "language": "java",
   "name": "java"
  },
  "language_info": {
   "codemirror_mode": "java",
   "file_extension": ".jshell",
   "mimetype": "text/x-java-source",
   "name": "Java",
   "pygments_lexer": "java",
   "version": "11.0.24+7-LTS-271"
  }
 },
 "nbformat": 4,
 "nbformat_minor": 5
}
